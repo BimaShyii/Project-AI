{
 "cells": [
  {
   "cell_type": "markdown",
   "metadata": {},
   "source": [
    "<h3>1. Import module yang dibutuhkan</h3>"
   ]
  },
  {
   "cell_type": "code",
   "execution_count": 22,
   "metadata": {},
   "outputs": [],
   "source": [
    "from sklearn.model_selection import train_test_split\n",
    "from sklearn.preprocessing import LabelEncoder\n",
    "from sklearn.metrics import classification_report\n",
    "from tensorflow.keras.models import Sequential\n",
    "from tensorflow.keras.layers import Flatten, Dense\n",
    "from tensorflow.keras.optimizers import SGD\n",
    "import numpy as np\n",
    "import cv2\n",
    "import glob\n",
    "import matplotlib.pyplot as plt"
   ]
  },
  {
   "cell_type": "markdown",
   "metadata": {},
   "source": [
    "<h3>2. Load Dataset</h3>"
   ]
  },
  {
   "cell_type": "code",
   "execution_count": 23,
   "metadata": {},
   "outputs": [],
   "source": [
    "imagePaths = 'dataset\\\\'\n",
    "label_list = ['Daun Kemangi', 'Daun Seledri']\n",
    "data = []\n",
    "labels = []"
   ]
  },
  {
   "cell_type": "code",
   "execution_count": 24,
   "metadata": {},
   "outputs": [],
   "source": [
    "for label in label_list:\n",
    "    for imagePath in glob.glob(imagePaths+label+'\\\\*.jpg'):\n",
    "        #print(imagePath)\n",
    "        image = cv2.imread(imagePath)\n",
    "        image = cv2.resize(image, (32, 32))\n",
    "        data.append(image)\n",
    "        labels.append(label)"
   ]
  },
  {
   "cell_type": "code",
   "execution_count": 25,
   "metadata": {},
   "outputs": [
    {
     "data": {
      "text/plain": [
       "(100, 32, 32, 3)"
      ]
     },
     "execution_count": 25,
     "metadata": {},
     "output_type": "execute_result"
    }
   ],
   "source": [
    "np.array(data).shape"
   ]
  },
  {
   "cell_type": "markdown",
   "metadata": {},
   "source": [
    "<h3>3. Data Preprocessing</h3>"
   ]
  },
  {
   "cell_type": "code",
   "execution_count": 26,
   "metadata": {},
   "outputs": [],
   "source": [
    "# ubah type data dari list menjadi array\n",
    "# ubah nilai dari tiap pixel menjadi range [0..1]\n",
    "data = np.array(data, dtype='float') / 255.0\n",
    "labels = np.array(labels)"
   ]
  },
  {
   "cell_type": "code",
   "execution_count": 27,
   "metadata": {},
   "outputs": [
    {
     "name": "stdout",
     "output_type": "stream",
     "text": [
      "['Daun Kemangi' 'Daun Kemangi' 'Daun Kemangi' 'Daun Kemangi'\n",
      " 'Daun Kemangi' 'Daun Kemangi' 'Daun Kemangi' 'Daun Kemangi'\n",
      " 'Daun Kemangi' 'Daun Kemangi' 'Daun Kemangi' 'Daun Kemangi'\n",
      " 'Daun Kemangi' 'Daun Kemangi' 'Daun Kemangi' 'Daun Kemangi'\n",
      " 'Daun Kemangi' 'Daun Kemangi' 'Daun Kemangi' 'Daun Kemangi'\n",
      " 'Daun Kemangi' 'Daun Kemangi' 'Daun Kemangi' 'Daun Kemangi'\n",
      " 'Daun Kemangi' 'Daun Kemangi' 'Daun Kemangi' 'Daun Kemangi'\n",
      " 'Daun Kemangi' 'Daun Kemangi' 'Daun Kemangi' 'Daun Kemangi'\n",
      " 'Daun Kemangi' 'Daun Kemangi' 'Daun Kemangi' 'Daun Kemangi'\n",
      " 'Daun Kemangi' 'Daun Kemangi' 'Daun Kemangi' 'Daun Kemangi'\n",
      " 'Daun Kemangi' 'Daun Kemangi' 'Daun Kemangi' 'Daun Kemangi'\n",
      " 'Daun Kemangi' 'Daun Kemangi' 'Daun Kemangi' 'Daun Kemangi'\n",
      " 'Daun Kemangi' 'Daun Kemangi' 'Daun Seledri' 'Daun Seledri'\n",
      " 'Daun Seledri' 'Daun Seledri' 'Daun Seledri' 'Daun Seledri'\n",
      " 'Daun Seledri' 'Daun Seledri' 'Daun Seledri' 'Daun Seledri'\n",
      " 'Daun Seledri' 'Daun Seledri' 'Daun Seledri' 'Daun Seledri'\n",
      " 'Daun Seledri' 'Daun Seledri' 'Daun Seledri' 'Daun Seledri'\n",
      " 'Daun Seledri' 'Daun Seledri' 'Daun Seledri' 'Daun Seledri'\n",
      " 'Daun Seledri' 'Daun Seledri' 'Daun Seledri' 'Daun Seledri'\n",
      " 'Daun Seledri' 'Daun Seledri' 'Daun Seledri' 'Daun Seledri'\n",
      " 'Daun Seledri' 'Daun Seledri' 'Daun Seledri' 'Daun Seledri'\n",
      " 'Daun Seledri' 'Daun Seledri' 'Daun Seledri' 'Daun Seledri'\n",
      " 'Daun Seledri' 'Daun Seledri' 'Daun Seledri' 'Daun Seledri'\n",
      " 'Daun Seledri' 'Daun Seledri' 'Daun Seledri' 'Daun Seledri'\n",
      " 'Daun Seledri' 'Daun Seledri' 'Daun Seledri' 'Daun Seledri']\n"
     ]
    }
   ],
   "source": [
    "print(labels)"
   ]
  },
  {
   "cell_type": "code",
   "execution_count": 28,
   "metadata": {},
   "outputs": [
    {
     "name": "stdout",
     "output_type": "stream",
     "text": [
      "[0 0 0 0 0 0 0 0 0 0 0 0 0 0 0 0 0 0 0 0 0 0 0 0 0 0 0 0 0 0 0 0 0 0 0 0 0\n",
      " 0 0 0 0 0 0 0 0 0 0 0 0 0 1 1 1 1 1 1 1 1 1 1 1 1 1 1 1 1 1 1 1 1 1 1 1 1\n",
      " 1 1 1 1 1 1 1 1 1 1 1 1 1 1 1 1 1 1 1 1 1 1 1 1 1 1]\n"
     ]
    }
   ],
   "source": [
    "# ubah nilai dari labels menjadi binary\n",
    "lb = LabelEncoder()\n",
    "labels = lb.fit_transform(labels)\n",
    "print(labels)"
   ]
  },
  {
   "cell_type": "markdown",
   "metadata": {},
   "source": [
    "<h3>4. Split Dataset</h3>"
   ]
  },
  {
   "cell_type": "code",
   "execution_count": 29,
   "metadata": {},
   "outputs": [],
   "source": [
    "x_train, x_test, y_train, y_test = train_test_split(data, labels, test_size=0.2, random_state=42)"
   ]
  },
  {
   "cell_type": "code",
   "execution_count": 30,
   "metadata": {},
   "outputs": [
    {
     "name": "stdout",
     "output_type": "stream",
     "text": [
      "Ukuran data train = (80, 32, 32, 3)\n",
      "Ukuran data test = (20, 32, 32, 3)\n"
     ]
    }
   ],
   "source": [
    "print('Ukuran data train =', x_train.shape)\n",
    "print('Ukuran data test =', x_test.shape)"
   ]
  },
  {
   "cell_type": "markdown",
   "metadata": {},
   "source": [
    "<h3>5. Build ANN Architecture</h3>"
   ]
  },
  {
   "cell_type": "code",
   "execution_count": 31,
   "metadata": {},
   "outputs": [],
   "source": [
    "model = Sequential()\n",
    "model.add(Flatten(input_shape=(32,32,3)))\n",
    "model.add(Dense(1024, activation=\"relu\"))\n",
    "model.add(Dense(1024, activation=\"relu\"))\n",
    "model.add(Dense(1, activation=\"sigmoid\"))"
   ]
  },
  {
   "cell_type": "code",
   "execution_count": 32,
   "metadata": {},
   "outputs": [
    {
     "name": "stdout",
     "output_type": "stream",
     "text": [
      "Model: \"sequential_1\"\n",
      "_________________________________________________________________\n",
      " Layer (type)                Output Shape              Param #   \n",
      "=================================================================\n",
      " flatten_1 (Flatten)         (None, 3072)              0         \n",
      "                                                                 \n",
      " dense_3 (Dense)             (None, 1024)              3146752   \n",
      "                                                                 \n",
      " dense_4 (Dense)             (None, 1024)              1049600   \n",
      "                                                                 \n",
      " dense_5 (Dense)             (None, 1)                 1025      \n",
      "                                                                 \n",
      "=================================================================\n",
      "Total params: 4,197,377\n",
      "Trainable params: 4,197,377\n",
      "Non-trainable params: 0\n",
      "_________________________________________________________________\n"
     ]
    }
   ],
   "source": [
    "model.summary()"
   ]
  },
  {
   "cell_type": "code",
   "execution_count": 33,
   "metadata": {},
   "outputs": [],
   "source": [
    "# tentukan hyperparameter\n",
    "lr = 0.01\n",
    "max_epochs = 100\n",
    "opt_funct = SGD(learning_rate=lr)"
   ]
  },
  {
   "cell_type": "code",
   "execution_count": 34,
   "metadata": {},
   "outputs": [],
   "source": [
    "# compile arsitektur yang telah dibuat\n",
    "model.compile(loss = 'binary_crossentropy', \n",
    "              optimizer = opt_funct, \n",
    "              metrics = ['accuracy'])"
   ]
  },
  {
   "cell_type": "markdown",
   "metadata": {},
   "source": [
    "<h3>6. Train Model</h3>"
   ]
  },
  {
   "cell_type": "code",
   "execution_count": 35,
   "metadata": {},
   "outputs": [
    {
     "name": "stdout",
     "output_type": "stream",
     "text": [
      "Epoch 1/100\n",
      "3/3 [==============================] - 3s 464ms/step - loss: 1.1022 - accuracy: 0.5250 - val_loss: 4.3251 - val_accuracy: 0.4000\n",
      "Epoch 2/100\n",
      "3/3 [==============================] - 0s 171ms/step - loss: 2.0351 - accuracy: 0.4500 - val_loss: 0.6701 - val_accuracy: 0.6000\n",
      "Epoch 3/100\n",
      "3/3 [==============================] - 0s 152ms/step - loss: 0.7145 - accuracy: 0.5250 - val_loss: 0.7241 - val_accuracy: 0.4000\n",
      "Epoch 4/100\n",
      "3/3 [==============================] - 0s 87ms/step - loss: 0.6696 - accuracy: 0.5875 - val_loss: 0.7389 - val_accuracy: 0.4000\n",
      "Epoch 5/100\n",
      "3/3 [==============================] - 0s 73ms/step - loss: 0.7312 - accuracy: 0.4750 - val_loss: 0.7226 - val_accuracy: 0.6000\n",
      "Epoch 6/100\n",
      "3/3 [==============================] - 0s 82ms/step - loss: 0.9448 - accuracy: 0.4500 - val_loss: 0.9170 - val_accuracy: 0.4000\n",
      "Epoch 7/100\n",
      "3/3 [==============================] - 0s 83ms/step - loss: 0.7662 - accuracy: 0.5000 - val_loss: 0.7441 - val_accuracy: 0.4000\n",
      "Epoch 8/100\n",
      "3/3 [==============================] - 0s 90ms/step - loss: 0.6783 - accuracy: 0.5000 - val_loss: 0.6765 - val_accuracy: 0.6500\n",
      "Epoch 9/100\n",
      "3/3 [==============================] - 0s 79ms/step - loss: 0.6534 - accuracy: 0.7125 - val_loss: 0.8538 - val_accuracy: 0.4000\n",
      "Epoch 10/100\n",
      "3/3 [==============================] - 0s 109ms/step - loss: 0.6606 - accuracy: 0.5875 - val_loss: 0.7170 - val_accuracy: 0.4000\n",
      "Epoch 11/100\n",
      "3/3 [==============================] - 0s 143ms/step - loss: 0.6525 - accuracy: 0.5750 - val_loss: 0.6359 - val_accuracy: 0.6500\n",
      "Epoch 12/100\n",
      "3/3 [==============================] - 0s 189ms/step - loss: 0.6432 - accuracy: 0.6000 - val_loss: 0.6389 - val_accuracy: 0.6500\n",
      "Epoch 13/100\n",
      "3/3 [==============================] - 0s 161ms/step - loss: 0.6816 - accuracy: 0.6000 - val_loss: 0.8452 - val_accuracy: 0.4000\n",
      "Epoch 14/100\n",
      "3/3 [==============================] - 0s 90ms/step - loss: 0.6504 - accuracy: 0.6625 - val_loss: 0.7881 - val_accuracy: 0.4000\n",
      "Epoch 15/100\n",
      "3/3 [==============================] - 0s 93ms/step - loss: 0.7297 - accuracy: 0.4750 - val_loss: 0.6268 - val_accuracy: 0.6500\n",
      "Epoch 16/100\n",
      "3/3 [==============================] - 0s 97ms/step - loss: 0.8133 - accuracy: 0.4875 - val_loss: 0.6404 - val_accuracy: 0.6000\n",
      "Epoch 17/100\n",
      "3/3 [==============================] - 0s 101ms/step - loss: 0.7697 - accuracy: 0.4000 - val_loss: 0.9257 - val_accuracy: 0.4000\n",
      "Epoch 18/100\n",
      "3/3 [==============================] - 0s 113ms/step - loss: 0.6574 - accuracy: 0.5750 - val_loss: 0.6402 - val_accuracy: 0.7500\n",
      "Epoch 19/100\n",
      "3/3 [==============================] - 0s 126ms/step - loss: 0.6337 - accuracy: 0.7625 - val_loss: 0.6252 - val_accuracy: 0.6500\n",
      "Epoch 20/100\n",
      "3/3 [==============================] - 0s 100ms/step - loss: 0.7119 - accuracy: 0.4875 - val_loss: 0.6931 - val_accuracy: 0.5000\n",
      "Epoch 21/100\n",
      "3/3 [==============================] - 0s 96ms/step - loss: 0.6203 - accuracy: 0.7000 - val_loss: 0.6297 - val_accuracy: 0.6000\n",
      "Epoch 22/100\n",
      "3/3 [==============================] - 0s 102ms/step - loss: 0.6244 - accuracy: 0.6625 - val_loss: 0.6812 - val_accuracy: 0.5500\n",
      "Epoch 23/100\n",
      "3/3 [==============================] - 0s 108ms/step - loss: 0.6262 - accuracy: 0.6500 - val_loss: 0.8799 - val_accuracy: 0.4000\n",
      "Epoch 24/100\n",
      "3/3 [==============================] - 0s 99ms/step - loss: 0.6211 - accuracy: 0.6000 - val_loss: 0.6249 - val_accuracy: 0.7000\n",
      "Epoch 25/100\n",
      "3/3 [==============================] - 0s 87ms/step - loss: 0.6197 - accuracy: 0.7000 - val_loss: 0.6456 - val_accuracy: 0.7000\n",
      "Epoch 26/100\n",
      "3/3 [==============================] - 0s 110ms/step - loss: 0.6580 - accuracy: 0.5750 - val_loss: 0.8741 - val_accuracy: 0.4000\n",
      "Epoch 27/100\n",
      "3/3 [==============================] - 0s 84ms/step - loss: 0.6747 - accuracy: 0.5375 - val_loss: 0.7041 - val_accuracy: 0.5000\n",
      "Epoch 28/100\n",
      "3/3 [==============================] - 0s 79ms/step - loss: 0.6810 - accuracy: 0.5500 - val_loss: 0.7519 - val_accuracy: 0.6000\n",
      "Epoch 29/100\n",
      "3/3 [==============================] - 0s 91ms/step - loss: 0.7391 - accuracy: 0.5500 - val_loss: 0.9235 - val_accuracy: 0.4000\n",
      "Epoch 30/100\n",
      "3/3 [==============================] - 0s 102ms/step - loss: 0.6650 - accuracy: 0.6375 - val_loss: 0.6086 - val_accuracy: 0.6500\n",
      "Epoch 31/100\n",
      "3/3 [==============================] - 0s 87ms/step - loss: 0.6466 - accuracy: 0.5375 - val_loss: 0.6379 - val_accuracy: 0.7000\n",
      "Epoch 32/100\n",
      "3/3 [==============================] - 0s 73ms/step - loss: 0.6066 - accuracy: 0.6875 - val_loss: 0.6028 - val_accuracy: 0.6500\n",
      "Epoch 33/100\n",
      "3/3 [==============================] - 0s 90ms/step - loss: 0.6167 - accuracy: 0.6000 - val_loss: 0.7119 - val_accuracy: 0.5000\n",
      "Epoch 34/100\n",
      "3/3 [==============================] - 0s 99ms/step - loss: 0.6140 - accuracy: 0.6375 - val_loss: 0.6412 - val_accuracy: 0.7000\n",
      "Epoch 35/100\n",
      "3/3 [==============================] - 0s 87ms/step - loss: 0.6013 - accuracy: 0.6750 - val_loss: 0.7203 - val_accuracy: 0.4500\n",
      "Epoch 36/100\n",
      "3/3 [==============================] - 0s 81ms/step - loss: 0.6529 - accuracy: 0.5375 - val_loss: 0.6038 - val_accuracy: 0.7000\n",
      "Epoch 37/100\n",
      "3/3 [==============================] - 0s 98ms/step - loss: 0.5843 - accuracy: 0.8125 - val_loss: 0.7469 - val_accuracy: 0.4500\n",
      "Epoch 38/100\n",
      "3/3 [==============================] - 0s 114ms/step - loss: 0.5967 - accuracy: 0.6875 - val_loss: 0.9070 - val_accuracy: 0.4000\n",
      "Epoch 39/100\n",
      "3/3 [==============================] - 0s 92ms/step - loss: 0.6095 - accuracy: 0.7250 - val_loss: 0.6396 - val_accuracy: 0.6500\n",
      "Epoch 40/100\n",
      "3/3 [==============================] - 0s 77ms/step - loss: 0.6862 - accuracy: 0.5875 - val_loss: 1.0232 - val_accuracy: 0.4000\n",
      "Epoch 41/100\n",
      "3/3 [==============================] - 0s 104ms/step - loss: 0.6558 - accuracy: 0.6875 - val_loss: 0.6138 - val_accuracy: 0.6500\n",
      "Epoch 42/100\n",
      "3/3 [==============================] - 0s 89ms/step - loss: 0.5964 - accuracy: 0.7375 - val_loss: 0.6160 - val_accuracy: 0.6000\n",
      "Epoch 43/100\n",
      "3/3 [==============================] - 0s 83ms/step - loss: 0.6162 - accuracy: 0.5875 - val_loss: 0.5948 - val_accuracy: 0.6500\n",
      "Epoch 44/100\n",
      "3/3 [==============================] - 0s 101ms/step - loss: 0.5710 - accuracy: 0.7000 - val_loss: 0.7524 - val_accuracy: 0.4500\n",
      "Epoch 45/100\n",
      "3/3 [==============================] - 0s 111ms/step - loss: 0.5889 - accuracy: 0.6750 - val_loss: 0.6971 - val_accuracy: 0.5000\n",
      "Epoch 46/100\n",
      "3/3 [==============================] - 0s 93ms/step - loss: 0.6783 - accuracy: 0.5125 - val_loss: 0.6436 - val_accuracy: 0.6000\n",
      "Epoch 47/100\n",
      "3/3 [==============================] - 0s 94ms/step - loss: 0.7711 - accuracy: 0.4250 - val_loss: 0.9897 - val_accuracy: 0.4000\n",
      "Epoch 48/100\n",
      "3/3 [==============================] - 0s 90ms/step - loss: 0.7121 - accuracy: 0.5875 - val_loss: 0.6901 - val_accuracy: 0.6000\n",
      "Epoch 49/100\n",
      "3/3 [==============================] - 0s 99ms/step - loss: 0.7242 - accuracy: 0.5375 - val_loss: 0.7201 - val_accuracy: 0.4500\n",
      "Epoch 50/100\n",
      "3/3 [==============================] - 0s 79ms/step - loss: 0.6107 - accuracy: 0.6625 - val_loss: 0.7109 - val_accuracy: 0.5000\n",
      "Epoch 51/100\n",
      "3/3 [==============================] - 0s 99ms/step - loss: 0.5928 - accuracy: 0.6500 - val_loss: 0.6960 - val_accuracy: 0.5000\n",
      "Epoch 52/100\n",
      "3/3 [==============================] - 0s 82ms/step - loss: 0.5758 - accuracy: 0.7500 - val_loss: 0.6723 - val_accuracy: 0.5000\n",
      "Epoch 53/100\n",
      "3/3 [==============================] - 0s 78ms/step - loss: 0.5636 - accuracy: 0.7125 - val_loss: 0.5956 - val_accuracy: 0.7000\n",
      "Epoch 54/100\n",
      "3/3 [==============================] - 0s 85ms/step - loss: 0.5677 - accuracy: 0.7375 - val_loss: 0.5712 - val_accuracy: 0.8000\n",
      "Epoch 55/100\n",
      "3/3 [==============================] - 0s 94ms/step - loss: 0.6289 - accuracy: 0.6375 - val_loss: 0.5925 - val_accuracy: 0.7000\n",
      "Epoch 56/100\n",
      "3/3 [==============================] - 0s 72ms/step - loss: 0.5509 - accuracy: 0.7875 - val_loss: 0.6659 - val_accuracy: 0.5500\n",
      "Epoch 57/100\n",
      "3/3 [==============================] - 0s 124ms/step - loss: 0.5854 - accuracy: 0.6375 - val_loss: 0.6086 - val_accuracy: 0.7000\n",
      "Epoch 58/100\n",
      "3/3 [==============================] - 0s 141ms/step - loss: 0.5711 - accuracy: 0.7000 - val_loss: 0.6068 - val_accuracy: 0.7000\n",
      "Epoch 59/100\n",
      "3/3 [==============================] - 0s 105ms/step - loss: 0.5667 - accuracy: 0.6750 - val_loss: 0.7556 - val_accuracy: 0.5000\n",
      "Epoch 60/100\n",
      "3/3 [==============================] - 0s 87ms/step - loss: 0.5623 - accuracy: 0.7625 - val_loss: 0.6391 - val_accuracy: 0.6000\n",
      "Epoch 61/100\n",
      "3/3 [==============================] - 0s 97ms/step - loss: 0.5487 - accuracy: 0.7000 - val_loss: 0.6600 - val_accuracy: 0.6000\n",
      "Epoch 62/100\n",
      "3/3 [==============================] - 0s 88ms/step - loss: 0.6948 - accuracy: 0.5625 - val_loss: 0.5847 - val_accuracy: 0.7500\n",
      "Epoch 63/100\n",
      "3/3 [==============================] - 0s 95ms/step - loss: 0.5551 - accuracy: 0.7500 - val_loss: 0.7732 - val_accuracy: 0.4500\n",
      "Epoch 64/100\n",
      "3/3 [==============================] - 0s 99ms/step - loss: 0.6462 - accuracy: 0.5875 - val_loss: 0.5784 - val_accuracy: 0.7500\n",
      "Epoch 65/100\n",
      "3/3 [==============================] - 0s 95ms/step - loss: 0.5452 - accuracy: 0.7750 - val_loss: 0.5734 - val_accuracy: 0.7500\n",
      "Epoch 66/100\n",
      "3/3 [==============================] - 0s 86ms/step - loss: 0.5754 - accuracy: 0.6875 - val_loss: 0.8871 - val_accuracy: 0.4000\n",
      "Epoch 67/100\n",
      "3/3 [==============================] - 0s 89ms/step - loss: 0.6596 - accuracy: 0.6000 - val_loss: 0.6304 - val_accuracy: 0.6500\n",
      "Epoch 68/100\n",
      "3/3 [==============================] - 0s 93ms/step - loss: 0.6596 - accuracy: 0.5625 - val_loss: 0.5744 - val_accuracy: 0.7000\n",
      "Epoch 69/100\n",
      "3/3 [==============================] - 0s 82ms/step - loss: 0.5541 - accuracy: 0.7250 - val_loss: 0.6053 - val_accuracy: 0.7000\n",
      "Epoch 70/100\n",
      "3/3 [==============================] - 0s 79ms/step - loss: 0.5334 - accuracy: 0.7875 - val_loss: 0.8625 - val_accuracy: 0.4000\n",
      "Epoch 71/100\n",
      "3/3 [==============================] - 0s 95ms/step - loss: 0.6784 - accuracy: 0.6000 - val_loss: 0.5699 - val_accuracy: 0.7500\n",
      "Epoch 72/100\n",
      "3/3 [==============================] - 0s 81ms/step - loss: 0.5444 - accuracy: 0.8000 - val_loss: 0.5929 - val_accuracy: 0.6500\n",
      "Epoch 73/100\n",
      "3/3 [==============================] - 0s 88ms/step - loss: 0.5674 - accuracy: 0.7000 - val_loss: 0.6983 - val_accuracy: 0.5000\n",
      "Epoch 74/100\n",
      "3/3 [==============================] - 0s 82ms/step - loss: 0.5276 - accuracy: 0.7625 - val_loss: 0.6273 - val_accuracy: 0.6500\n",
      "Epoch 75/100\n",
      "3/3 [==============================] - 0s 74ms/step - loss: 0.5556 - accuracy: 0.6875 - val_loss: 0.6207 - val_accuracy: 0.7000\n",
      "Epoch 76/100\n",
      "3/3 [==============================] - 0s 108ms/step - loss: 0.5194 - accuracy: 0.8125 - val_loss: 0.5482 - val_accuracy: 0.7000\n",
      "Epoch 77/100\n",
      "3/3 [==============================] - 0s 75ms/step - loss: 0.5271 - accuracy: 0.7375 - val_loss: 0.7791 - val_accuracy: 0.6000\n",
      "Epoch 78/100\n",
      "3/3 [==============================] - 0s 91ms/step - loss: 0.9195 - accuracy: 0.4250 - val_loss: 0.7487 - val_accuracy: 0.4500\n",
      "Epoch 79/100\n",
      "3/3 [==============================] - 0s 90ms/step - loss: 0.6180 - accuracy: 0.6500 - val_loss: 0.5831 - val_accuracy: 0.6500\n",
      "Epoch 80/100\n",
      "3/3 [==============================] - 0s 79ms/step - loss: 0.5788 - accuracy: 0.7000 - val_loss: 0.5823 - val_accuracy: 0.6500\n",
      "Epoch 81/100\n",
      "3/3 [==============================] - 0s 90ms/step - loss: 0.6512 - accuracy: 0.6250 - val_loss: 0.7449 - val_accuracy: 0.5000\n",
      "Epoch 82/100\n",
      "3/3 [==============================] - 0s 85ms/step - loss: 0.5438 - accuracy: 0.7375 - val_loss: 0.5697 - val_accuracy: 0.6500\n",
      "Epoch 83/100\n",
      "3/3 [==============================] - 0s 84ms/step - loss: 0.5895 - accuracy: 0.6250 - val_loss: 0.6701 - val_accuracy: 0.5500\n",
      "Epoch 84/100\n",
      "3/3 [==============================] - 0s 83ms/step - loss: 0.5248 - accuracy: 0.8125 - val_loss: 0.7006 - val_accuracy: 0.5000\n",
      "Epoch 85/100\n",
      "3/3 [==============================] - 0s 112ms/step - loss: 0.5038 - accuracy: 0.7750 - val_loss: 0.5494 - val_accuracy: 0.7000\n",
      "Epoch 86/100\n",
      "3/3 [==============================] - 0s 79ms/step - loss: 0.5023 - accuracy: 0.7625 - val_loss: 0.6187 - val_accuracy: 0.6500\n",
      "Epoch 87/100\n",
      "3/3 [==============================] - 0s 78ms/step - loss: 0.6039 - accuracy: 0.6500 - val_loss: 0.6493 - val_accuracy: 0.6000\n",
      "Epoch 88/100\n",
      "3/3 [==============================] - 0s 110ms/step - loss: 0.6145 - accuracy: 0.6375 - val_loss: 0.6477 - val_accuracy: 0.6000\n",
      "Epoch 89/100\n",
      "3/3 [==============================] - 0s 78ms/step - loss: 0.5567 - accuracy: 0.6750 - val_loss: 0.5381 - val_accuracy: 0.8000\n",
      "Epoch 90/100\n",
      "3/3 [==============================] - 0s 92ms/step - loss: 0.5614 - accuracy: 0.6500 - val_loss: 0.8821 - val_accuracy: 0.4500\n",
      "Epoch 91/100\n",
      "3/3 [==============================] - 0s 96ms/step - loss: 0.6094 - accuracy: 0.6250 - val_loss: 0.5384 - val_accuracy: 0.8000\n",
      "Epoch 92/100\n",
      "3/3 [==============================] - 0s 81ms/step - loss: 0.5271 - accuracy: 0.7375 - val_loss: 0.5319 - val_accuracy: 0.8000\n",
      "Epoch 93/100\n",
      "3/3 [==============================] - 0s 91ms/step - loss: 0.5271 - accuracy: 0.7500 - val_loss: 1.2078 - val_accuracy: 0.4000\n",
      "Epoch 94/100\n",
      "3/3 [==============================] - 0s 91ms/step - loss: 0.6231 - accuracy: 0.7750 - val_loss: 0.5363 - val_accuracy: 0.8000\n",
      "Epoch 95/100\n",
      "3/3 [==============================] - 0s 85ms/step - loss: 0.5040 - accuracy: 0.8125 - val_loss: 0.6275 - val_accuracy: 0.6500\n",
      "Epoch 96/100\n",
      "3/3 [==============================] - 0s 120ms/step - loss: 0.8372 - accuracy: 0.5000 - val_loss: 0.6012 - val_accuracy: 0.7000\n",
      "Epoch 97/100\n",
      "3/3 [==============================] - 0s 90ms/step - loss: 0.5383 - accuracy: 0.8000 - val_loss: 0.5476 - val_accuracy: 0.8000\n",
      "Epoch 98/100\n",
      "3/3 [==============================] - 0s 115ms/step - loss: 0.5272 - accuracy: 0.7500 - val_loss: 0.5890 - val_accuracy: 0.7000\n",
      "Epoch 99/100\n",
      "3/3 [==============================] - 0s 74ms/step - loss: 0.4882 - accuracy: 0.8000 - val_loss: 0.5555 - val_accuracy: 0.7000\n",
      "Epoch 100/100\n",
      "3/3 [==============================] - 0s 72ms/step - loss: 0.6302 - accuracy: 0.5625 - val_loss: 0.5309 - val_accuracy: 0.8000\n"
     ]
    }
   ],
   "source": [
    "H = model.fit(x_train, y_train, validation_data=(x_test, y_test), \n",
    "          epochs=max_epochs, batch_size=32)"
   ]
  },
  {
   "cell_type": "code",
   "execution_count": 36,
   "metadata": {},
   "outputs": [
    {
     "data": {
      "image/png": "[encoded data removed]",
      "text/plain": [
       "<Figure size 432x288 with 1 Axes>"
      ]
     },
     "metadata": {},
     "output_type": "display_data"
    }
   ],
   "source": [
    "N = np.arange(0, max_epochs)\n",
    "plt.style.use(\"ggplot\")\n",
    "plt.figure()\n",
    "plt.plot(N, H.history[\"loss\"], label=\"train_loss\")\n",
    "plt.plot(N, H.history[\"val_loss\"], label=\"val_loss\")\n",
    "#plt.plot(N, H.history[\"accuracy\"], label=\"train_acc\")\n",
    "#plt.plot(N, H.history[\"val_accuracy\"], label=\"val_acc\")\n",
    "plt.xlabel(\"Epoch #\")\n",
    "plt.legend()\n",
    "plt.show()"
   ]
  },
  {
   "cell_type": "markdown",
   "metadata": {},
   "source": [
    "<h3>7. Evaluate the Model</h3>"
   ]
  },
  {
   "cell_type": "code",
   "execution_count": 37,
   "metadata": {},
   "outputs": [
    {
     "name": "stdout",
     "output_type": "stream",
     "text": [
      "              precision    recall  f1-score   support\n",
      "\n",
      "Daun Kemangi       0.79      0.92      0.85        12\n",
      "Daun Seledri       0.83      0.62      0.71         8\n",
      "\n",
      "    accuracy                           0.80        20\n",
      "   macro avg       0.81      0.77      0.78        20\n",
      "weighted avg       0.80      0.80      0.79        20\n",
      "\n"
     ]
    }
   ],
   "source": [
    "# menghitung nilai akurasi model terhadap data test\n",
    "predictions = model.predict(x_test, batch_size=32)\n",
    "target = (predictions > 0.5).astype(np.float64)\n",
    "print(classification_report(y_test, target, target_names=label_list))"
   ]
  },
  {
   "cell_type": "code",
   "execution_count": 39,
   "metadata": {},
   "outputs": [
    {
     "name": "stdout",
     "output_type": "stream",
     "text": [
      "[[0.6671977]]\n"
     ]
    }
   ],
   "source": [
    "# uji model menggunakan image lain\n",
    "queryPath = imagePaths+'query_daun_seledri.jpg'\n",
    "query = cv2.imread(queryPath)\n",
    "output = query.copy()\n",
    "query = cv2.resize(query, (32, 32))\n",
    "q = []\n",
    "q.append(query)\n",
    "q = np.array(q, dtype='float') / 255.0\n",
    "\n",
    "q_pred = model.predict(q)\n",
    "print(q_pred)"
   ]
  },
  {
   "cell_type": "code",
   "execution_count": 40,
   "metadata": {},
   "outputs": [],
   "source": [
    "if q_pred<=0.5 :\n",
    "    target = \"Daun Kemangi\"\n",
    "else :\n",
    "    target = \"Daun Seledri\"\n",
    "text = \"{}\".format(target)\n",
    "cv2.putText(output, text, (10, 30), cv2.FONT_HERSHEY_SIMPLEX, 0.7, (0, 0, 255), 2)\n",
    " \n",
    "# menampilkan output image\n",
    "cv2.imshow('Output', output)\n",
    "cv2.waitKey() # image tidak akan diclose,sebelum user menekan sembarang tombol\n",
    "cv2.destroyWindow('Output') # image akan diclose"
   ]
  },
  {
   "cell_type": "code",
   "execution_count": null,
   "metadata": {},
   "outputs": [],
   "source": []
  }
 ],
 "metadata": {
  "kernelspec": {
   "display_name": "Python 3",
   "language": "python",
   "name": "python3"
  },
  "language_info": {
   "codemirror_mode": {
    "name": "ipython",
    "version": 3
   },
   "file_extension": ".py",
   "mimetype": "text/x-python",
   "name": "python",
   "nbconvert_exporter": "python",
   "pygments_lexer": "ipython3",
   "version": "3.9.4"
  }
 },
 "nbformat": 4,
 "nbformat_minor": 4
}

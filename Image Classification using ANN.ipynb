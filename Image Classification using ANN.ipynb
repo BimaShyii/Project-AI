{
 "cells": [
  {
   "cell_type": "markdown",
   "metadata": {},
   "source": [
    "<h3>1. Import module yang dibutuhkan</h3>"
   ]
  },
  {
   "cell_type": "code",
   "execution_count": 1,
   "metadata": {},
   "outputs": [],
   "source": [
    "from sklearn.model_selection import train_test_split\n",
    "from sklearn.preprocessing import LabelEncoder\n",
    "from sklearn.metrics import classification_report\n",
    "from tensorflow.keras.models import Sequential\n",
    "from tensorflow.keras.layers import Flatten, Dense\n",
    "from tensorflow.keras.optimizers import SGD\n",
    "import numpy as np\n",
    "import cv2\n",
    "import glob\n",
    "import matplotlib.pyplot as plt"
   ]
  },
  {
   "cell_type": "markdown",
   "metadata": {},
   "source": [
    "<h3>2. Load Dataset</h3>"
   ]
  },
  {
   "cell_type": "code",
   "execution_count": 2,
   "metadata": {},
   "outputs": [],
   "source": [
    "imagePaths = 'dataset\\\\'\n",
    "label_list = ['Daun Kemangi', 'Daun Seledri']\n",
    "data = []\n",
    "labels = []"
   ]
  },
  {
   "cell_type": "code",
   "execution_count": 3,
   "metadata": {},
   "outputs": [],
   "source": [
    "for label in label_list:\n",
    "    for imagePath in glob.glob(imagePaths+label+'\\\\*.jpg'):\n",
    "        #print(imagePath)\n",
    "        image = cv2.imread(imagePath)\n",
    "        image = cv2.resize(image, (32, 32))\n",
    "        data.append(image)\n",
    "        labels.append(label)"
   ]
  },
  {
   "cell_type": "code",
   "execution_count": 4,
   "metadata": {},
   "outputs": [
    {
     "data": {
      "text/plain": [
       "(100, 32, 32, 3)"
      ]
     },
     "execution_count": 4,
     "metadata": {},
     "output_type": "execute_result"
    }
   ],
   "source": [
    "np.array(data).shape"
   ]
  },
  {
   "cell_type": "markdown",
   "metadata": {},
   "source": [
    "<h3>3. Data Preprocessing</h3>"
   ]
  },
  {
   "cell_type": "code",
   "execution_count": 5,
   "metadata": {},
   "outputs": [],
   "source": [
    "# ubah type data dari list menjadi array\n",
    "# ubah nilai dari tiap pixel menjadi range [0..1]\n",
    "data = np.array(data, dtype='float') / 255.0\n",
    "labels = np.array(labels)"
   ]
  },
  {
   "cell_type": "code",
   "execution_count": 6,
   "metadata": {},
   "outputs": [
    {
     "name": "stdout",
     "output_type": "stream",
     "text": [
      "['Daun Kemangi' 'Daun Kemangi' 'Daun Kemangi' 'Daun Kemangi'\n",
      " 'Daun Kemangi' 'Daun Kemangi' 'Daun Kemangi' 'Daun Kemangi'\n",
      " 'Daun Kemangi' 'Daun Kemangi' 'Daun Kemangi' 'Daun Kemangi'\n",
      " 'Daun Kemangi' 'Daun Kemangi' 'Daun Kemangi' 'Daun Kemangi'\n",
      " 'Daun Kemangi' 'Daun Kemangi' 'Daun Kemangi' 'Daun Kemangi'\n",
      " 'Daun Kemangi' 'Daun Kemangi' 'Daun Kemangi' 'Daun Kemangi'\n",
      " 'Daun Kemangi' 'Daun Kemangi' 'Daun Kemangi' 'Daun Kemangi'\n",
      " 'Daun Kemangi' 'Daun Kemangi' 'Daun Kemangi' 'Daun Kemangi'\n",
      " 'Daun Kemangi' 'Daun Kemangi' 'Daun Kemangi' 'Daun Kemangi'\n",
      " 'Daun Kemangi' 'Daun Kemangi' 'Daun Kemangi' 'Daun Kemangi'\n",
      " 'Daun Kemangi' 'Daun Kemangi' 'Daun Kemangi' 'Daun Kemangi'\n",
      " 'Daun Kemangi' 'Daun Kemangi' 'Daun Kemangi' 'Daun Kemangi'\n",
      " 'Daun Kemangi' 'Daun Kemangi' 'Daun Seledri' 'Daun Seledri'\n",
      " 'Daun Seledri' 'Daun Seledri' 'Daun Seledri' 'Daun Seledri'\n",
      " 'Daun Seledri' 'Daun Seledri' 'Daun Seledri' 'Daun Seledri'\n",
      " 'Daun Seledri' 'Daun Seledri' 'Daun Seledri' 'Daun Seledri'\n",
      " 'Daun Seledri' 'Daun Seledri' 'Daun Seledri' 'Daun Seledri'\n",
      " 'Daun Seledri' 'Daun Seledri' 'Daun Seledri' 'Daun Seledri'\n",
      " 'Daun Seledri' 'Daun Seledri' 'Daun Seledri' 'Daun Seledri'\n",
      " 'Daun Seledri' 'Daun Seledri' 'Daun Seledri' 'Daun Seledri'\n",
      " 'Daun Seledri' 'Daun Seledri' 'Daun Seledri' 'Daun Seledri'\n",
      " 'Daun Seledri' 'Daun Seledri' 'Daun Seledri' 'Daun Seledri'\n",
      " 'Daun Seledri' 'Daun Seledri' 'Daun Seledri' 'Daun Seledri'\n",
      " 'Daun Seledri' 'Daun Seledri' 'Daun Seledri' 'Daun Seledri'\n",
      " 'Daun Seledri' 'Daun Seledri' 'Daun Seledri' 'Daun Seledri']\n"
     ]
    }
   ],
   "source": [
    "print(labels)"
   ]
  },
  {
   "cell_type": "code",
   "execution_count": 7,
   "metadata": {},
   "outputs": [
    {
     "name": "stdout",
     "output_type": "stream",
     "text": [
      "[0 0 0 0 0 0 0 0 0 0 0 0 0 0 0 0 0 0 0 0 0 0 0 0 0 0 0 0 0 0 0 0 0 0 0 0 0\n",
      " 0 0 0 0 0 0 0 0 0 0 0 0 0 1 1 1 1 1 1 1 1 1 1 1 1 1 1 1 1 1 1 1 1 1 1 1 1\n",
      " 1 1 1 1 1 1 1 1 1 1 1 1 1 1 1 1 1 1 1 1 1 1 1 1 1 1]\n"
     ]
    }
   ],
   "source": [
    "# ubah nilai dari labels menjadi binary\n",
    "lb = LabelEncoder()\n",
    "labels = lb.fit_transform(labels)\n",
    "print(labels)"
   ]
  },
  {
   "cell_type": "markdown",
   "metadata": {},
   "source": [
    "<h3>4. Split Dataset</h3>"
   ]
  },
  {
   "cell_type": "code",
   "execution_count": 8,
   "metadata": {},
   "outputs": [],
   "source": [
    "x_train, x_test, y_train, y_test = train_test_split(data, labels, test_size=0.2, random_state=42)"
   ]
  },
  {
   "cell_type": "code",
   "execution_count": 9,
   "metadata": {},
   "outputs": [
    {
     "name": "stdout",
     "output_type": "stream",
     "text": [
      "Ukuran data train = (80, 32, 32, 3)\n",
      "Ukuran data test = (20, 32, 32, 3)\n"
     ]
    }
   ],
   "source": [
    "print('Ukuran data train =', x_train.shape)\n",
    "print('Ukuran data test =', x_test.shape)"
   ]
  },
  {
   "cell_type": "markdown",
   "metadata": {},
   "source": [
    "<h3>5. Build ANN Architecture</h3>"
   ]
  },
  {
   "cell_type": "code",
   "execution_count": 10,
   "metadata": {},
   "outputs": [],
   "source": [
    "model = Sequential()\n",
    "model.add(Flatten(input_shape=(32,32,3)))\n",
    "model.add(Dense(1024, activation=\"relu\"))\n",
    "model.add(Dense(1024, activation=\"relu\"))\n",
    "model.add(Dense(1, activation=\"sigmoid\"))"
   ]
  },
  {
   "cell_type": "code",
   "execution_count": 11,
   "metadata": {},
   "outputs": [
    {
     "name": "stdout",
     "output_type": "stream",
     "text": [
      "Model: \"sequential\"\n",
      "_________________________________________________________________\n",
      " Layer (type)                Output Shape              Param #   \n",
      "=================================================================\n",
      " flatten (Flatten)           (None, 3072)              0         \n",
      "                                                                 \n",
      " dense (Dense)               (None, 1024)              3146752   \n",
      "                                                                 \n",
      " dense_1 (Dense)             (None, 1024)              1049600   \n",
      "                                                                 \n",
      " dense_2 (Dense)             (None, 1)                 1025      \n",
      "                                                                 \n",
      "=================================================================\n",
      "Total params: 4,197,377\n",
      "Trainable params: 4,197,377\n",
      "Non-trainable params: 0\n",
      "_________________________________________________________________\n"
     ]
    }
   ],
   "source": [
    "model.summary()"
   ]
  },
  {
   "cell_type": "code",
   "execution_count": 12,
   "metadata": {},
   "outputs": [],
   "source": [
    "# tentukan hyperparameter\n",
    "lr = 0.01\n",
    "max_epochs = 100\n",
    "opt_funct = SGD(learning_rate=lr)"
   ]
  },
  {
   "cell_type": "code",
   "execution_count": 13,
   "metadata": {},
   "outputs": [],
   "source": [
    "# compile arsitektur yang telah dibuat\n",
    "model.compile(loss = 'binary_crossentropy', \n",
    "              optimizer = opt_funct, \n",
    "              metrics = ['accuracy'])"
   ]
  },
  {
   "cell_type": "markdown",
   "metadata": {},
   "source": [
    "<h3>6. Train Model</h3>"
   ]
  },
  {
   "cell_type": "code",
   "execution_count": 14,
   "metadata": {},
   "outputs": [
    {
     "name": "stdout",
     "output_type": "stream",
     "text": [
      "Epoch 1/100\n",
      "3/3 [==============================] - 1s 192ms/step - loss: 0.7791 - accuracy: 0.5500 - val_loss: 0.8063 - val_accuracy: 0.6000\n",
      "Epoch 2/100\n",
      "3/3 [==============================] - 0s 86ms/step - loss: 1.3861 - accuracy: 0.4750 - val_loss: 2.1292 - val_accuracy: 0.4000\n",
      "Epoch 3/100\n",
      "3/3 [==============================] - 0s 71ms/step - loss: 1.0691 - accuracy: 0.5750 - val_loss: 0.8329 - val_accuracy: 0.4000\n",
      "Epoch 4/100\n",
      "3/3 [==============================] - 0s 64ms/step - loss: 0.6837 - accuracy: 0.5250 - val_loss: 0.8518 - val_accuracy: 0.6000\n",
      "Epoch 5/100\n",
      "3/3 [==============================] - 0s 67ms/step - loss: 0.8778 - accuracy: 0.4750 - val_loss: 0.9321 - val_accuracy: 0.4000\n",
      "Epoch 6/100\n",
      "3/3 [==============================] - 0s 71ms/step - loss: 0.6533 - accuracy: 0.6375 - val_loss: 0.7699 - val_accuracy: 0.6000\n",
      "Epoch 7/100\n",
      "3/3 [==============================] - 0s 71ms/step - loss: 0.9260 - accuracy: 0.4750 - val_loss: 0.6450 - val_accuracy: 0.6000\n",
      "Epoch 8/100\n",
      "3/3 [==============================] - 0s 67ms/step - loss: 0.6527 - accuracy: 0.6125 - val_loss: 0.7274 - val_accuracy: 0.4000\n",
      "Epoch 9/100\n",
      "3/3 [==============================] - 0s 70ms/step - loss: 0.6417 - accuracy: 0.5750 - val_loss: 0.6353 - val_accuracy: 0.6000\n",
      "Epoch 10/100\n",
      "3/3 [==============================] - 0s 75ms/step - loss: 0.6753 - accuracy: 0.5375 - val_loss: 0.6347 - val_accuracy: 0.7500\n",
      "Epoch 11/100\n",
      "3/3 [==============================] - 0s 82ms/step - loss: 0.6298 - accuracy: 0.7750 - val_loss: 0.7575 - val_accuracy: 0.4000\n",
      "Epoch 12/100\n",
      "3/3 [==============================] - 0s 79ms/step - loss: 0.7215 - accuracy: 0.4750 - val_loss: 1.0932 - val_accuracy: 0.4000\n",
      "Epoch 13/100\n",
      "3/3 [==============================] - 0s 71ms/step - loss: 0.7041 - accuracy: 0.6250 - val_loss: 0.6374 - val_accuracy: 0.6000\n",
      "Epoch 14/100\n",
      "3/3 [==============================] - 0s 84ms/step - loss: 0.6863 - accuracy: 0.4750 - val_loss: 0.7536 - val_accuracy: 0.4000\n",
      "Epoch 15/100\n",
      "3/3 [==============================] - 0s 71ms/step - loss: 0.6410 - accuracy: 0.6250 - val_loss: 0.6673 - val_accuracy: 0.6000\n",
      "Epoch 16/100\n",
      "3/3 [==============================] - 0s 72ms/step - loss: 0.6313 - accuracy: 0.7375 - val_loss: 0.6125 - val_accuracy: 0.6500\n",
      "Epoch 17/100\n",
      "3/3 [==============================] - 0s 72ms/step - loss: 0.6258 - accuracy: 0.6125 - val_loss: 0.6748 - val_accuracy: 0.4500\n",
      "Epoch 18/100\n",
      "3/3 [==============================] - 0s 62ms/step - loss: 0.6134 - accuracy: 0.7500 - val_loss: 0.6654 - val_accuracy: 0.6000\n",
      "Epoch 19/100\n",
      "3/3 [==============================] - 0s 77ms/step - loss: 0.6117 - accuracy: 0.7000 - val_loss: 0.7812 - val_accuracy: 0.4000\n",
      "Epoch 20/100\n",
      "3/3 [==============================] - 0s 70ms/step - loss: 0.7583 - accuracy: 0.4750 - val_loss: 0.6582 - val_accuracy: 0.6000\n",
      "Epoch 21/100\n",
      "3/3 [==============================] - 0s 83ms/step - loss: 0.6621 - accuracy: 0.5500 - val_loss: 0.7840 - val_accuracy: 0.4000\n",
      "Epoch 22/100\n",
      "3/3 [==============================] - 0s 70ms/step - loss: 0.7320 - accuracy: 0.4500 - val_loss: 0.6193 - val_accuracy: 0.7500\n",
      "Epoch 23/100\n",
      "3/3 [==============================] - 0s 89ms/step - loss: 0.6048 - accuracy: 0.8375 - val_loss: 0.8496 - val_accuracy: 0.4000\n",
      "Epoch 24/100\n",
      "3/3 [==============================] - 0s 93ms/step - loss: 0.6679 - accuracy: 0.5125 - val_loss: 0.6215 - val_accuracy: 0.7000\n",
      "Epoch 25/100\n",
      "3/3 [==============================] - 0s 75ms/step - loss: 0.6842 - accuracy: 0.5875 - val_loss: 1.1487 - val_accuracy: 0.4000\n",
      "Epoch 26/100\n",
      "3/3 [==============================] - 0s 70ms/step - loss: 0.8718 - accuracy: 0.4250 - val_loss: 0.6560 - val_accuracy: 0.7000\n",
      "Epoch 27/100\n",
      "3/3 [==============================] - 0s 93ms/step - loss: 0.6233 - accuracy: 0.6875 - val_loss: 0.6689 - val_accuracy: 0.5500\n",
      "Epoch 28/100\n",
      "3/3 [==============================] - 0s 73ms/step - loss: 0.6046 - accuracy: 0.6875 - val_loss: 0.6693 - val_accuracy: 0.5000\n",
      "Epoch 29/100\n",
      "3/3 [==============================] - 0s 70ms/step - loss: 0.6272 - accuracy: 0.6625 - val_loss: 0.6031 - val_accuracy: 0.6000\n",
      "Epoch 30/100\n",
      "3/3 [==============================] - 0s 69ms/step - loss: 0.6121 - accuracy: 0.6125 - val_loss: 0.6371 - val_accuracy: 0.6500\n",
      "Epoch 31/100\n",
      "3/3 [==============================] - 0s 60ms/step - loss: 0.6051 - accuracy: 0.6625 - val_loss: 0.6408 - val_accuracy: 0.6500\n",
      "Epoch 32/100\n",
      "3/3 [==============================] - 0s 76ms/step - loss: 0.5866 - accuracy: 0.7875 - val_loss: 0.7212 - val_accuracy: 0.4500\n",
      "Epoch 33/100\n",
      "3/3 [==============================] - 0s 65ms/step - loss: 0.5719 - accuracy: 0.6875 - val_loss: 0.5872 - val_accuracy: 0.6500\n",
      "Epoch 34/100\n",
      "3/3 [==============================] - 0s 78ms/step - loss: 0.6329 - accuracy: 0.5375 - val_loss: 0.6694 - val_accuracy: 0.5500\n",
      "Epoch 35/100\n",
      "3/3 [==============================] - 0s 81ms/step - loss: 0.6082 - accuracy: 0.6000 - val_loss: 0.7640 - val_accuracy: 0.4000\n",
      "Epoch 36/100\n",
      "3/3 [==============================] - 0s 72ms/step - loss: 0.6329 - accuracy: 0.5750 - val_loss: 0.9366 - val_accuracy: 0.4000\n",
      "Epoch 37/100\n",
      "3/3 [==============================] - 0s 70ms/step - loss: 0.6261 - accuracy: 0.7250 - val_loss: 0.6961 - val_accuracy: 0.4500\n",
      "Epoch 38/100\n",
      "3/3 [==============================] - 0s 122ms/step - loss: 0.5918 - accuracy: 0.6125 - val_loss: 0.6674 - val_accuracy: 0.5500\n",
      "Epoch 39/100\n",
      "3/3 [==============================] - 0s 65ms/step - loss: 0.5749 - accuracy: 0.6500 - val_loss: 0.6213 - val_accuracy: 0.6500\n",
      "Epoch 40/100\n",
      "3/3 [==============================] - 0s 70ms/step - loss: 0.5613 - accuracy: 0.7750 - val_loss: 0.6384 - val_accuracy: 0.7000\n",
      "Epoch 41/100\n",
      "3/3 [==============================] - 0s 77ms/step - loss: 0.5623 - accuracy: 0.7500 - val_loss: 0.7335 - val_accuracy: 0.4500\n",
      "Epoch 42/100\n",
      "3/3 [==============================] - 0s 76ms/step - loss: 0.5696 - accuracy: 0.7125 - val_loss: 0.7099 - val_accuracy: 0.4500\n",
      "Epoch 43/100\n",
      "3/3 [==============================] - 0s 74ms/step - loss: 0.5877 - accuracy: 0.6375 - val_loss: 0.5758 - val_accuracy: 0.7500\n",
      "Epoch 44/100\n",
      "3/3 [==============================] - 0s 68ms/step - loss: 0.5585 - accuracy: 0.7625 - val_loss: 0.6279 - val_accuracy: 0.6500\n",
      "Epoch 45/100\n",
      "3/3 [==============================] - 0s 88ms/step - loss: 0.5954 - accuracy: 0.6000 - val_loss: 0.6683 - val_accuracy: 0.5500\n",
      "Epoch 46/100\n",
      "3/3 [==============================] - 0s 74ms/step - loss: 0.5549 - accuracy: 0.7375 - val_loss: 0.9477 - val_accuracy: 0.4000\n",
      "Epoch 47/100\n",
      "3/3 [==============================] - 0s 85ms/step - loss: 0.7986 - accuracy: 0.4500 - val_loss: 0.7202 - val_accuracy: 0.6000\n",
      "Epoch 48/100\n",
      "3/3 [==============================] - 0s 72ms/step - loss: 0.7184 - accuracy: 0.5625 - val_loss: 0.5731 - val_accuracy: 0.8000\n",
      "Epoch 49/100\n",
      "3/3 [==============================] - 0s 70ms/step - loss: 0.5801 - accuracy: 0.7125 - val_loss: 0.6708 - val_accuracy: 0.5500\n",
      "Epoch 50/100\n",
      "3/3 [==============================] - 0s 72ms/step - loss: 0.5578 - accuracy: 0.7625 - val_loss: 0.6457 - val_accuracy: 0.6500\n",
      "Epoch 51/100\n",
      "3/3 [==============================] - 0s 78ms/step - loss: 0.5444 - accuracy: 0.8125 - val_loss: 0.6422 - val_accuracy: 0.6500\n",
      "Epoch 52/100\n",
      "3/3 [==============================] - 0s 67ms/step - loss: 0.5447 - accuracy: 0.7625 - val_loss: 0.8060 - val_accuracy: 0.4000\n",
      "Epoch 53/100\n",
      "3/3 [==============================] - 0s 71ms/step - loss: 0.5464 - accuracy: 0.7500 - val_loss: 0.6201 - val_accuracy: 0.6500\n",
      "Epoch 54/100\n",
      "3/3 [==============================] - 0s 75ms/step - loss: 0.5291 - accuracy: 0.8125 - val_loss: 0.5647 - val_accuracy: 0.7000\n",
      "Epoch 55/100\n",
      "3/3 [==============================] - 0s 71ms/step - loss: 0.7170 - accuracy: 0.6375 - val_loss: 0.6537 - val_accuracy: 0.6000\n",
      "Epoch 56/100\n",
      "3/3 [==============================] - 0s 73ms/step - loss: 0.6443 - accuracy: 0.6000 - val_loss: 0.7036 - val_accuracy: 0.4500\n",
      "Epoch 57/100\n",
      "3/3 [==============================] - 0s 81ms/step - loss: 0.5903 - accuracy: 0.6625 - val_loss: 0.5765 - val_accuracy: 0.7000\n",
      "Epoch 58/100\n",
      "3/3 [==============================] - 0s 73ms/step - loss: 0.5565 - accuracy: 0.7500 - val_loss: 0.5932 - val_accuracy: 0.6000\n",
      "Epoch 59/100\n",
      "3/3 [==============================] - 0s 77ms/step - loss: 0.5460 - accuracy: 0.7125 - val_loss: 0.5584 - val_accuracy: 0.7000\n",
      "Epoch 60/100\n",
      "3/3 [==============================] - 0s 89ms/step - loss: 0.6204 - accuracy: 0.6250 - val_loss: 1.3163 - val_accuracy: 0.4000\n",
      "Epoch 61/100\n",
      "3/3 [==============================] - 0s 69ms/step - loss: 0.6623 - accuracy: 0.6125 - val_loss: 0.5786 - val_accuracy: 0.7000\n",
      "Epoch 62/100\n",
      "3/3 [==============================] - 0s 75ms/step - loss: 0.5751 - accuracy: 0.6625 - val_loss: 0.5600 - val_accuracy: 0.8000\n",
      "Epoch 63/100\n",
      "3/3 [==============================] - 0s 71ms/step - loss: 0.5753 - accuracy: 0.6750 - val_loss: 0.5553 - val_accuracy: 0.8000\n",
      "Epoch 64/100\n",
      "3/3 [==============================] - 0s 75ms/step - loss: 0.5354 - accuracy: 0.7250 - val_loss: 0.7918 - val_accuracy: 0.4500\n",
      "Epoch 65/100\n",
      "3/3 [==============================] - 0s 64ms/step - loss: 0.6488 - accuracy: 0.5375 - val_loss: 0.5706 - val_accuracy: 0.6500\n",
      "Epoch 66/100\n",
      "3/3 [==============================] - 0s 71ms/step - loss: 0.5521 - accuracy: 0.7000 - val_loss: 0.7614 - val_accuracy: 0.4500\n",
      "Epoch 67/100\n",
      "3/3 [==============================] - 0s 77ms/step - loss: 0.7856 - accuracy: 0.4375 - val_loss: 0.5761 - val_accuracy: 0.7000\n",
      "Epoch 68/100\n",
      "3/3 [==============================] - 0s 73ms/step - loss: 0.6301 - accuracy: 0.6250 - val_loss: 0.5602 - val_accuracy: 0.7500\n",
      "Epoch 69/100\n",
      "3/3 [==============================] - 0s 73ms/step - loss: 0.5407 - accuracy: 0.7375 - val_loss: 0.5558 - val_accuracy: 0.7500\n",
      "Epoch 70/100\n",
      "3/3 [==============================] - 0s 64ms/step - loss: 0.5344 - accuracy: 0.7500 - val_loss: 0.6113 - val_accuracy: 0.6500\n",
      "Epoch 71/100\n",
      "3/3 [==============================] - 0s 73ms/step - loss: 0.5198 - accuracy: 0.8250 - val_loss: 0.5565 - val_accuracy: 0.7000\n",
      "Epoch 72/100\n",
      "3/3 [==============================] - 0s 58ms/step - loss: 0.5050 - accuracy: 0.8375 - val_loss: 0.5987 - val_accuracy: 0.7000\n",
      "Epoch 73/100\n",
      "3/3 [==============================] - 0s 69ms/step - loss: 0.5046 - accuracy: 0.8375 - val_loss: 0.5964 - val_accuracy: 0.7000\n",
      "Epoch 74/100\n",
      "3/3 [==============================] - 0s 65ms/step - loss: 0.5151 - accuracy: 0.8000 - val_loss: 0.5276 - val_accuracy: 0.7500\n",
      "Epoch 75/100\n",
      "3/3 [==============================] - 0s 72ms/step - loss: 0.8073 - accuracy: 0.5125 - val_loss: 0.9163 - val_accuracy: 0.4000\n",
      "Epoch 76/100\n",
      "3/3 [==============================] - 0s 65ms/step - loss: 0.6478 - accuracy: 0.6000 - val_loss: 0.6597 - val_accuracy: 0.6000\n",
      "Epoch 77/100\n",
      "3/3 [==============================] - 0s 75ms/step - loss: 0.7225 - accuracy: 0.5500 - val_loss: 0.5515 - val_accuracy: 0.8000\n",
      "Epoch 78/100\n",
      "3/3 [==============================] - 0s 78ms/step - loss: 0.5324 - accuracy: 0.7750 - val_loss: 1.0091 - val_accuracy: 0.4000\n",
      "Epoch 79/100\n",
      "3/3 [==============================] - 0s 73ms/step - loss: 0.6446 - accuracy: 0.6250 - val_loss: 0.8139 - val_accuracy: 0.4500\n",
      "Epoch 80/100\n",
      "3/3 [==============================] - 0s 78ms/step - loss: 0.5844 - accuracy: 0.6375 - val_loss: 0.7265 - val_accuracy: 0.4500\n",
      "Epoch 81/100\n",
      "3/3 [==============================] - 0s 70ms/step - loss: 0.5325 - accuracy: 0.7375 - val_loss: 0.8997 - val_accuracy: 0.4000\n",
      "Epoch 82/100\n",
      "3/3 [==============================] - 0s 68ms/step - loss: 0.5894 - accuracy: 0.6875 - val_loss: 0.6370 - val_accuracy: 0.6500\n",
      "Epoch 83/100\n",
      "3/3 [==============================] - 0s 77ms/step - loss: 0.5069 - accuracy: 0.8125 - val_loss: 0.6788 - val_accuracy: 0.5500\n",
      "Epoch 84/100\n",
      "3/3 [==============================] - 0s 86ms/step - loss: 0.6860 - accuracy: 0.5250 - val_loss: 0.5982 - val_accuracy: 0.7000\n",
      "Epoch 85/100\n",
      "3/3 [==============================] - 0s 100ms/step - loss: 0.5261 - accuracy: 0.7750 - val_loss: 0.5298 - val_accuracy: 0.8500\n",
      "Epoch 86/100\n",
      "3/3 [==============================] - 0s 98ms/step - loss: 0.5037 - accuracy: 0.8125 - val_loss: 1.0175 - val_accuracy: 0.4000\n",
      "Epoch 87/100\n",
      "3/3 [==============================] - 0s 80ms/step - loss: 0.6325 - accuracy: 0.6125 - val_loss: 0.7215 - val_accuracy: 0.5000\n",
      "Epoch 88/100\n",
      "3/3 [==============================] - 0s 83ms/step - loss: 0.4967 - accuracy: 0.8125 - val_loss: 0.5497 - val_accuracy: 0.7000\n",
      "Epoch 89/100\n",
      "3/3 [==============================] - 0s 79ms/step - loss: 0.8044 - accuracy: 0.4875 - val_loss: 0.6751 - val_accuracy: 0.5500\n",
      "Epoch 90/100\n",
      "3/3 [==============================] - 0s 82ms/step - loss: 0.5721 - accuracy: 0.7250 - val_loss: 0.5427 - val_accuracy: 0.7500\n",
      "Epoch 91/100\n",
      "3/3 [==============================] - 0s 82ms/step - loss: 0.5040 - accuracy: 0.8125 - val_loss: 0.7114 - val_accuracy: 0.5000\n",
      "Epoch 92/100\n",
      "3/3 [==============================] - 0s 93ms/step - loss: 0.4926 - accuracy: 0.7875 - val_loss: 0.5771 - val_accuracy: 0.7000\n",
      "Epoch 93/100\n",
      "3/3 [==============================] - 0s 91ms/step - loss: 0.5938 - accuracy: 0.6375 - val_loss: 0.9310 - val_accuracy: 0.4000\n",
      "Epoch 94/100\n",
      "3/3 [==============================] - 0s 89ms/step - loss: 0.5464 - accuracy: 0.7250 - val_loss: 0.5906 - val_accuracy: 0.7000\n",
      "Epoch 95/100\n",
      "3/3 [==============================] - 0s 78ms/step - loss: 0.5280 - accuracy: 0.7500 - val_loss: 0.5253 - val_accuracy: 0.8000\n",
      "Epoch 96/100\n",
      "3/3 [==============================] - 0s 87ms/step - loss: 0.6449 - accuracy: 0.6250 - val_loss: 0.5360 - val_accuracy: 0.7500\n",
      "Epoch 97/100\n",
      "3/3 [==============================] - 0s 83ms/step - loss: 0.4992 - accuracy: 0.8000 - val_loss: 0.5192 - val_accuracy: 0.7500\n",
      "Epoch 98/100\n",
      "3/3 [==============================] - 0s 74ms/step - loss: 0.5339 - accuracy: 0.7625 - val_loss: 1.4440 - val_accuracy: 0.4000\n",
      "Epoch 99/100\n",
      "3/3 [==============================] - 0s 87ms/step - loss: 0.7503 - accuracy: 0.6375 - val_loss: 0.6364 - val_accuracy: 0.6000\n",
      "Epoch 100/100\n",
      "3/3 [==============================] - 0s 85ms/step - loss: 0.5819 - accuracy: 0.6750 - val_loss: 0.5429 - val_accuracy: 0.7000\n"
     ]
    }
   ],
   "source": [
    "H = model.fit(x_train, y_train, validation_data=(x_test, y_test), \n",
    "          epochs=max_epochs, batch_size=32)"
   ]
  },
  {
   "cell_type": "code",
   "execution_count": 15,
   "metadata": {},
   "outputs": [
    {
     "data": {
      "image/png": "[encoded data removed]",
      "text/plain": [
       "<Figure size 432x288 with 1 Axes>"
      ]
     },
     "metadata": {},
     "output_type": "display_data"
    }
   ],
   "source": [
    "N = np.arange(0, max_epochs)\n",
    "plt.style.use(\"ggplot\")\n",
    "plt.figure()\n",
    "plt.plot(N, H.history[\"loss\"], label=\"train_loss\")\n",
    "plt.plot(N, H.history[\"val_loss\"], label=\"val_loss\")\n",
    "#plt.plot(N, H.history[\"accuracy\"], label=\"train_acc\")\n",
    "#plt.plot(N, H.history[\"val_accuracy\"], label=\"val_acc\")\n",
    "plt.xlabel(\"Epoch #\")\n",
    "plt.legend()\n",
    "plt.show()"
   ]
  },
  {
   "cell_type": "markdown",
   "metadata": {},
   "source": [
    "<h3>7. Evaluate the Model</h3>"
   ]
  },
  {
   "cell_type": "code",
   "execution_count": 16,
   "metadata": {},
   "outputs": [
    {
     "name": "stdout",
     "output_type": "stream",
     "text": [
      "              precision    recall  f1-score   support\n",
      "\n",
      "Daun Kemangi       0.67      1.00      0.80        12\n",
      "Daun Seledri       1.00      0.25      0.40         8\n",
      "\n",
      "    accuracy                           0.70        20\n",
      "   macro avg       0.83      0.62      0.60        20\n",
      "weighted avg       0.80      0.70      0.64        20\n",
      "\n"
     ]
    },
    {
     "name": "stderr",
     "output_type": "stream",
     "text": [
      "C:\\Users\\ASUS\\AppData\\Local\\Temp/ipykernel_8340/954476436.py:3: DeprecationWarning: `np.int` is a deprecated alias for the builtin `int`. To silence this warning, use `int` by itself. Doing this will not modify any behavior and is safe. When replacing `np.int`, you may wish to use e.g. `np.int64` or `np.int32` to specify the precision. If you wish to review your current use, check the release note link for additional information.\n",
      "Deprecated in NumPy 1.20; for more details and guidance: https://numpy.org/devdocs/release/1.20.0-notes.html#deprecations\n",
      "  target = (predictions > 0.5).astype(np.int)\n"
     ]
    }
   ],
   "source": [
    "# menghitung nilai akurasi model terhadap data test\n",
    "predictions = model.predict(x_test, batch_size=32)\n",
    "target = (predictions > 0.5).astype(np.float64)\n",
    "print(classification_report(y_test, target, target_names=label_list))"
   ]
  },
  {
   "cell_type": "code",
   "execution_count": 23,
   "metadata": {},
   "outputs": [
    {
     "name": "stdout",
     "output_type": "stream",
     "text": [
      "[[0.5538908]]\n"
     ]
    }
   ],
   "source": [
    "# uji model menggunakan image lain\n",
    "queryPath = imagePaths+'query_daun_seledri.jpg'\n",
    "query = cv2.imread(queryPath)\n",
    "output = query.copy()\n",
    "query = cv2.resize(query, (32, 32))\n",
    "q = []\n",
    "q.append(query)\n",
    "q = np.array(q, dtype='float') / 255.0\n",
    "\n",
    "q_pred = model.predict(q)\n",
    "print(q_pred)"
   ]
  },
  {
   "cell_type": "code",
   "execution_count": 26,
   "metadata": {},
   "outputs": [],
   "source": [
    "if q_pred<=0.5 :\n",
    "    target = \"Daun Kemangi\"\n",
    "else :\n",
    "    target = \"Daun Seledri\"\n",
    "text = \"{}\".format(target)\n",
    "cv2.putText(output, text, (10, 30), cv2.FONT_HERSHEY_SIMPLEX, 0.7, (0, 0, 255), 2)\n",
    " \n",
    "# menampilkan output image\n",
    "cv2.imshow('Output', output)\n",
    "cv2.waitKey() # image tidak akan diclose,sebelum user menekan sembarang tombol\n",
    "cv2.destroyWindow('Output') # image akan diclose"
   ]
  },
  {
   "cell_type": "code",
   "execution_count": null,
   "metadata": {},
   "outputs": [],
   "source": []
  }
 ],
 "metadata": {
  "kernelspec": {
   "display_name": "Python 3",
   "language": "python",
   "name": "python3"
  },
  "language_info": {
   "codemirror_mode": {
    "name": "ipython",
    "version": 3
   },
   "file_extension": ".py",
   "mimetype": "text/x-python",
   "name": "python",
   "nbconvert_exporter": "python",
   "pygments_lexer": "ipython3",
   "version": "3.9.4"
  }
 },
 "nbformat": 4,
 "nbformat_minor": 4
}

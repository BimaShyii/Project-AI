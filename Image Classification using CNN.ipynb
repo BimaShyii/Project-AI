{
 "cells": [
  {
   "cell_type": "markdown",
   "metadata": {},
   "source": [
    "<h3>1. Import module yang dibutuhkan</h3>"
   ]
  },
  {
   "cell_type": "code",
   "execution_count": 3,
   "metadata": {},
   "outputs": [],
   "source": [
    "from sklearn.model_selection import train_test_split\n",
    "from sklearn.preprocessing import LabelEncoder\n",
    "from sklearn.metrics import classification_report\n",
    "from tensorflow.keras.models import Sequential\n",
    "from tensorflow.keras.layers import InputLayer, Flatten, Dense, Conv2D, MaxPool2D, Dropout\n",
    "from tensorflow.keras.optimizers import Adam\n",
    "import numpy as np\n",
    "import cv2\n",
    "import glob\n",
    "import matplotlib.pyplot as plt"
   ]
  },
  {
   "cell_type": "markdown",
   "metadata": {},
   "source": [
    "<h3>2. Load Dataset</h3>"
   ]
  },
  {
   "cell_type": "code",
   "execution_count": 4,
   "metadata": {},
   "outputs": [],
   "source": [
    "imagePaths = 'dataset\\\\'\n",
    "label_list = ['Daun Kemangi', 'Daun Seledri']\n",
    "data = []\n",
    "labels = []"
   ]
  },
  {
   "cell_type": "code",
   "execution_count": 5,
   "metadata": {},
   "outputs": [],
   "source": [
    "for label in label_list:\n",
    "    for imagePath in glob.glob(imagePaths+label+'\\\\*.jpg'):\n",
    "        #print(imagePath)\n",
    "        image = cv2.imread(imagePath)\n",
    "        image = cv2.resize(image, (32, 32))\n",
    "        data.append(image)\n",
    "        labels.append(label)"
   ]
  },
  {
   "cell_type": "code",
   "execution_count": 6,
   "metadata": {},
   "outputs": [
    {
     "data": {
      "text/plain": [
       "(100, 32, 32, 3)"
      ]
     },
     "execution_count": 6,
     "metadata": {},
     "output_type": "execute_result"
    }
   ],
   "source": [
    "np.array(data).shape"
   ]
  },
  {
   "cell_type": "markdown",
   "metadata": {},
   "source": [
    "<h3>3. Data Preprocessing</h3>"
   ]
  },
  {
   "cell_type": "code",
   "execution_count": 7,
   "metadata": {},
   "outputs": [],
   "source": [
    "# ubah type data dari list menjadi array\n",
    "# ubah nilai dari tiap pixel menjadi range [0..1]\n",
    "data = np.array(data, dtype='float') / 255.0\n",
    "labels = np.array(labels)"
   ]
  },
  {
   "cell_type": "code",
   "execution_count": 8,
   "metadata": {},
   "outputs": [
    {
     "name": "stdout",
     "output_type": "stream",
     "text": [
      "['Daun Kemangi' 'Daun Kemangi' 'Daun Kemangi' 'Daun Kemangi'\n",
      " 'Daun Kemangi' 'Daun Kemangi' 'Daun Kemangi' 'Daun Kemangi'\n",
      " 'Daun Kemangi' 'Daun Kemangi' 'Daun Kemangi' 'Daun Kemangi'\n",
      " 'Daun Kemangi' 'Daun Kemangi' 'Daun Kemangi' 'Daun Kemangi'\n",
      " 'Daun Kemangi' 'Daun Kemangi' 'Daun Kemangi' 'Daun Kemangi'\n",
      " 'Daun Kemangi' 'Daun Kemangi' 'Daun Kemangi' 'Daun Kemangi'\n",
      " 'Daun Kemangi' 'Daun Kemangi' 'Daun Kemangi' 'Daun Kemangi'\n",
      " 'Daun Kemangi' 'Daun Kemangi' 'Daun Kemangi' 'Daun Kemangi'\n",
      " 'Daun Kemangi' 'Daun Kemangi' 'Daun Kemangi' 'Daun Kemangi'\n",
      " 'Daun Kemangi' 'Daun Kemangi' 'Daun Kemangi' 'Daun Kemangi'\n",
      " 'Daun Kemangi' 'Daun Kemangi' 'Daun Kemangi' 'Daun Kemangi'\n",
      " 'Daun Kemangi' 'Daun Kemangi' 'Daun Kemangi' 'Daun Kemangi'\n",
      " 'Daun Kemangi' 'Daun Kemangi' 'Daun Seledri' 'Daun Seledri'\n",
      " 'Daun Seledri' 'Daun Seledri' 'Daun Seledri' 'Daun Seledri'\n",
      " 'Daun Seledri' 'Daun Seledri' 'Daun Seledri' 'Daun Seledri'\n",
      " 'Daun Seledri' 'Daun Seledri' 'Daun Seledri' 'Daun Seledri'\n",
      " 'Daun Seledri' 'Daun Seledri' 'Daun Seledri' 'Daun Seledri'\n",
      " 'Daun Seledri' 'Daun Seledri' 'Daun Seledri' 'Daun Seledri'\n",
      " 'Daun Seledri' 'Daun Seledri' 'Daun Seledri' 'Daun Seledri'\n",
      " 'Daun Seledri' 'Daun Seledri' 'Daun Seledri' 'Daun Seledri'\n",
      " 'Daun Seledri' 'Daun Seledri' 'Daun Seledri' 'Daun Seledri'\n",
      " 'Daun Seledri' 'Daun Seledri' 'Daun Seledri' 'Daun Seledri'\n",
      " 'Daun Seledri' 'Daun Seledri' 'Daun Seledri' 'Daun Seledri'\n",
      " 'Daun Seledri' 'Daun Seledri' 'Daun Seledri' 'Daun Seledri'\n",
      " 'Daun Seledri' 'Daun Seledri' 'Daun Seledri' 'Daun Seledri']\n"
     ]
    }
   ],
   "source": [
    "print(labels)"
   ]
  },
  {
   "cell_type": "code",
   "execution_count": 9,
   "metadata": {},
   "outputs": [
    {
     "name": "stdout",
     "output_type": "stream",
     "text": [
      "[0 0 0 0 0 0 0 0 0 0 0 0 0 0 0 0 0 0 0 0 0 0 0 0 0 0 0 0 0 0 0 0 0 0 0 0 0\n",
      " 0 0 0 0 0 0 0 0 0 0 0 0 0 1 1 1 1 1 1 1 1 1 1 1 1 1 1 1 1 1 1 1 1 1 1 1 1\n",
      " 1 1 1 1 1 1 1 1 1 1 1 1 1 1 1 1 1 1 1 1 1 1 1 1 1 1]\n"
     ]
    }
   ],
   "source": [
    "# ubah nilai dari labels menjadi binary\n",
    "lb = LabelEncoder()\n",
    "labels = lb.fit_transform(labels)\n",
    "print(labels)"
   ]
  },
  {
   "cell_type": "markdown",
   "metadata": {},
   "source": [
    "<h3>4. Split Dataset</h3>"
   ]
  },
  {
   "cell_type": "code",
   "execution_count": 10,
   "metadata": {},
   "outputs": [],
   "source": [
    "x_train, x_test, y_train, y_test = train_test_split(data, labels, test_size=0.2, random_state=42)"
   ]
  },
  {
   "cell_type": "code",
   "execution_count": 11,
   "metadata": {},
   "outputs": [
    {
     "name": "stdout",
     "output_type": "stream",
     "text": [
      "Ukuran data train = (80, 32, 32, 3)\n",
      "Ukuran data test = (20, 32, 32, 3)\n"
     ]
    }
   ],
   "source": [
    "print('Ukuran data train =', x_train.shape)\n",
    "print('Ukuran data test =', x_test.shape)"
   ]
  },
  {
   "cell_type": "markdown",
   "metadata": {},
   "source": [
    "<h3>5. Build CNN Architecture</h3>"
   ]
  },
  {
   "cell_type": "code",
   "execution_count": 12,
   "metadata": {},
   "outputs": [],
   "source": [
    "model = Sequential()\n",
    "# Extracted Feature Layer\n",
    "model.add(InputLayer(input_shape=[32,32,3]))\n",
    "model.add(Conv2D(filters=32, kernel_size=2, strides=1, padding='same', activation='relu'))\n",
    "model.add(MaxPool2D(pool_size=2, padding='same'))\n",
    "model.add(Conv2D(filters=50, kernel_size=2, strides=1, padding='same', activation='relu'))\n",
    "model.add(MaxPool2D(pool_size=2, padding='same'))\n",
    "model.add(Dropout(0.25))\n",
    "model.add(Flatten())\n",
    "# Fully Connected Layer\n",
    "model.add(Dense(512, activation='relu'))\n",
    "model.add(Dropout(0.5))\n",
    "model.add(Dense(1, activation='sigmoid'))"
   ]
  },
  {
   "cell_type": "code",
   "execution_count": 13,
   "metadata": {},
   "outputs": [
    {
     "name": "stdout",
     "output_type": "stream",
     "text": [
      "Model: \"sequential\"\n",
      "_________________________________________________________________\n",
      " Layer (type)                Output Shape              Param #   \n",
      "=================================================================\n",
      " conv2d (Conv2D)             (None, 32, 32, 32)        416       \n",
      "                                                                 \n",
      " max_pooling2d (MaxPooling2D  (None, 16, 16, 32)       0         \n",
      " )                                                               \n",
      "                                                                 \n",
      " conv2d_1 (Conv2D)           (None, 16, 16, 50)        6450      \n",
      "                                                                 \n",
      " max_pooling2d_1 (MaxPooling  (None, 8, 8, 50)         0         \n",
      " 2D)                                                             \n",
      "                                                                 \n",
      " dropout (Dropout)           (None, 8, 8, 50)          0         \n",
      "                                                                 \n",
      " flatten (Flatten)           (None, 3200)              0         \n",
      "                                                                 \n",
      " dense (Dense)               (None, 512)               1638912   \n",
      "                                                                 \n",
      " dropout_1 (Dropout)         (None, 512)               0         \n",
      "                                                                 \n",
      " dense_1 (Dense)             (None, 1)                 513       \n",
      "                                                                 \n",
      "=================================================================\n",
      "Total params: 1,646,291\n",
      "Trainable params: 1,646,291\n",
      "Non-trainable params: 0\n",
      "_________________________________________________________________\n"
     ]
    }
   ],
   "source": [
    "model.summary()"
   ]
  },
  {
   "cell_type": "code",
   "execution_count": 14,
   "metadata": {},
   "outputs": [],
   "source": [
    "# tentukan hyperparameter\n",
    "lr = 0.001\n",
    "max_epochs = 100\n",
    "opt_funct = Adam(learning_rate=lr)"
   ]
  },
  {
   "cell_type": "code",
   "execution_count": 15,
   "metadata": {},
   "outputs": [],
   "source": [
    "# compile arsitektur yang telah dibuat\n",
    "model.compile(loss = 'binary_crossentropy', \n",
    "              optimizer = opt_funct, \n",
    "              metrics = ['accuracy'])"
   ]
  },
  {
   "cell_type": "markdown",
   "metadata": {},
   "source": [
    "<h3>6. Train Model</h3>"
   ]
  },
  {
   "cell_type": "code",
   "execution_count": 16,
   "metadata": {},
   "outputs": [
    {
     "name": "stdout",
     "output_type": "stream",
     "text": [
      "Epoch 1/100\n",
      "3/3 [==============================] - 1s 188ms/step - loss: 0.9194 - accuracy: 0.4875 - val_loss: 0.9451 - val_accuracy: 0.4000\n",
      "Epoch 2/100\n",
      "3/3 [==============================] - 0s 72ms/step - loss: 0.7899 - accuracy: 0.4625 - val_loss: 0.6828 - val_accuracy: 0.6000\n",
      "Epoch 3/100\n",
      "3/3 [==============================] - 0s 83ms/step - loss: 0.8249 - accuracy: 0.4875 - val_loss: 0.6602 - val_accuracy: 0.6000\n",
      "Epoch 4/100\n",
      "3/3 [==============================] - 0s 71ms/step - loss: 0.6836 - accuracy: 0.5500 - val_loss: 0.7766 - val_accuracy: 0.4000\n",
      "Epoch 5/100\n",
      "3/3 [==============================] - 0s 87ms/step - loss: 0.6984 - accuracy: 0.5250 - val_loss: 0.7471 - val_accuracy: 0.4000\n",
      "Epoch 6/100\n",
      "3/3 [==============================] - 0s 80ms/step - loss: 0.6779 - accuracy: 0.5750 - val_loss: 0.6831 - val_accuracy: 0.4000\n",
      "Epoch 7/100\n",
      "3/3 [==============================] - 0s 85ms/step - loss: 0.6740 - accuracy: 0.5750 - val_loss: 0.6481 - val_accuracy: 0.6000\n",
      "Epoch 8/100\n",
      "3/3 [==============================] - 0s 87ms/step - loss: 0.6640 - accuracy: 0.5375 - val_loss: 0.6451 - val_accuracy: 0.7000\n",
      "Epoch 9/100\n",
      "3/3 [==============================] - 0s 84ms/step - loss: 0.6486 - accuracy: 0.6875 - val_loss: 0.6626 - val_accuracy: 0.6000\n",
      "Epoch 10/100\n",
      "3/3 [==============================] - 0s 95ms/step - loss: 0.6479 - accuracy: 0.6000 - val_loss: 0.6833 - val_accuracy: 0.4000\n",
      "Epoch 11/100\n",
      "3/3 [==============================] - 0s 86ms/step - loss: 0.6060 - accuracy: 0.6375 - val_loss: 0.6346 - val_accuracy: 0.8000\n",
      "Epoch 12/100\n",
      "3/3 [==============================] - 0s 79ms/step - loss: 0.6026 - accuracy: 0.7125 - val_loss: 0.5941 - val_accuracy: 0.9000\n",
      "Epoch 13/100\n",
      "3/3 [==============================] - 0s 83ms/step - loss: 0.5787 - accuracy: 0.8250 - val_loss: 0.5922 - val_accuracy: 0.7500\n",
      "Epoch 14/100\n",
      "3/3 [==============================] - 0s 80ms/step - loss: 0.5678 - accuracy: 0.7625 - val_loss: 0.6433 - val_accuracy: 0.6000\n",
      "Epoch 15/100\n",
      "3/3 [==============================] - 0s 101ms/step - loss: 0.5440 - accuracy: 0.7000 - val_loss: 0.5661 - val_accuracy: 0.7500\n",
      "Epoch 16/100\n",
      "3/3 [==============================] - 0s 90ms/step - loss: 0.4897 - accuracy: 0.8250 - val_loss: 0.5254 - val_accuracy: 0.8500\n",
      "Epoch 17/100\n",
      "3/3 [==============================] - 0s 87ms/step - loss: 0.4709 - accuracy: 0.8625 - val_loss: 0.5613 - val_accuracy: 0.8000\n",
      "Epoch 18/100\n",
      "3/3 [==============================] - 0s 87ms/step - loss: 0.4544 - accuracy: 0.8000 - val_loss: 0.5809 - val_accuracy: 0.7500\n",
      "Epoch 19/100\n",
      "3/3 [==============================] - 0s 77ms/step - loss: 0.4625 - accuracy: 0.7875 - val_loss: 0.4585 - val_accuracy: 0.8000\n",
      "Epoch 20/100\n",
      "3/3 [==============================] - 0s 85ms/step - loss: 0.3982 - accuracy: 0.8750 - val_loss: 0.4776 - val_accuracy: 0.9000\n",
      "Epoch 21/100\n",
      "3/3 [==============================] - 0s 84ms/step - loss: 0.3718 - accuracy: 0.8750 - val_loss: 0.4355 - val_accuracy: 0.8500\n",
      "Epoch 22/100\n",
      "3/3 [==============================] - 0s 74ms/step - loss: 0.2968 - accuracy: 0.9375 - val_loss: 0.4337 - val_accuracy: 0.9000\n",
      "Epoch 23/100\n",
      "3/3 [==============================] - 0s 76ms/step - loss: 0.2989 - accuracy: 0.9000 - val_loss: 0.5173 - val_accuracy: 0.8000\n",
      "Epoch 24/100\n",
      "3/3 [==============================] - 0s 78ms/step - loss: 0.2956 - accuracy: 0.9000 - val_loss: 0.3907 - val_accuracy: 0.8500\n",
      "Epoch 25/100\n",
      "3/3 [==============================] - 0s 78ms/step - loss: 0.2736 - accuracy: 0.9125 - val_loss: 0.4064 - val_accuracy: 0.9000\n",
      "Epoch 26/100\n",
      "3/3 [==============================] - 0s 90ms/step - loss: 0.2433 - accuracy: 0.9125 - val_loss: 0.4607 - val_accuracy: 0.9000\n",
      "Epoch 27/100\n",
      "3/3 [==============================] - 0s 83ms/step - loss: 0.2211 - accuracy: 0.9250 - val_loss: 0.3775 - val_accuracy: 0.8500\n",
      "Epoch 28/100\n",
      "3/3 [==============================] - 0s 81ms/step - loss: 0.2052 - accuracy: 0.9125 - val_loss: 0.3989 - val_accuracy: 0.9000\n",
      "Epoch 29/100\n",
      "3/3 [==============================] - 0s 97ms/step - loss: 0.1665 - accuracy: 0.9625 - val_loss: 0.3963 - val_accuracy: 0.9000\n",
      "Epoch 30/100\n",
      "3/3 [==============================] - 0s 78ms/step - loss: 0.2105 - accuracy: 0.9000 - val_loss: 0.4045 - val_accuracy: 0.9000\n",
      "Epoch 31/100\n",
      "3/3 [==============================] - 0s 98ms/step - loss: 0.2111 - accuracy: 0.9125 - val_loss: 0.3833 - val_accuracy: 0.8500\n",
      "Epoch 32/100\n",
      "3/3 [==============================] - 0s 83ms/step - loss: 0.1795 - accuracy: 0.9375 - val_loss: 0.3928 - val_accuracy: 0.9000\n",
      "Epoch 33/100\n",
      "3/3 [==============================] - 0s 80ms/step - loss: 0.1353 - accuracy: 0.9875 - val_loss: 0.4052 - val_accuracy: 0.9000\n",
      "Epoch 34/100\n",
      "3/3 [==============================] - 0s 84ms/step - loss: 0.1358 - accuracy: 0.9375 - val_loss: 0.3687 - val_accuracy: 0.9000\n",
      "Epoch 35/100\n",
      "3/3 [==============================] - 0s 93ms/step - loss: 0.1585 - accuracy: 0.9625 - val_loss: 0.3679 - val_accuracy: 0.9000\n",
      "Epoch 36/100\n",
      "3/3 [==============================] - 0s 90ms/step - loss: 0.1559 - accuracy: 0.9250 - val_loss: 0.4394 - val_accuracy: 0.9000\n",
      "Epoch 37/100\n",
      "3/3 [==============================] - 0s 87ms/step - loss: 0.1211 - accuracy: 0.9500 - val_loss: 0.3355 - val_accuracy: 0.9000\n",
      "Epoch 38/100\n",
      "3/3 [==============================] - 0s 100ms/step - loss: 0.1430 - accuracy: 0.9500 - val_loss: 0.3647 - val_accuracy: 0.9000\n",
      "Epoch 39/100\n",
      "3/3 [==============================] - 0s 136ms/step - loss: 0.1336 - accuracy: 0.9375 - val_loss: 0.3921 - val_accuracy: 0.9000\n",
      "Epoch 40/100\n",
      "3/3 [==============================] - 0s 88ms/step - loss: 0.1012 - accuracy: 0.9875 - val_loss: 0.3628 - val_accuracy: 0.8500\n",
      "Epoch 41/100\n",
      "3/3 [==============================] - 0s 83ms/step - loss: 0.1607 - accuracy: 0.9375 - val_loss: 0.3753 - val_accuracy: 0.9000\n",
      "Epoch 42/100\n",
      "3/3 [==============================] - 0s 92ms/step - loss: 0.0768 - accuracy: 0.9875 - val_loss: 0.5750 - val_accuracy: 0.8500\n",
      "Epoch 43/100\n",
      "3/3 [==============================] - 0s 83ms/step - loss: 0.1648 - accuracy: 0.9250 - val_loss: 0.3552 - val_accuracy: 0.9000\n",
      "Epoch 44/100\n",
      "3/3 [==============================] - 0s 87ms/step - loss: 0.0865 - accuracy: 0.9875 - val_loss: 0.3482 - val_accuracy: 0.8500\n",
      "Epoch 45/100\n",
      "3/3 [==============================] - 0s 92ms/step - loss: 0.0967 - accuracy: 0.9750 - val_loss: 0.3902 - val_accuracy: 0.9000\n",
      "Epoch 46/100\n",
      "3/3 [==============================] - 0s 85ms/step - loss: 0.0585 - accuracy: 1.0000 - val_loss: 0.3650 - val_accuracy: 0.9000\n",
      "Epoch 47/100\n",
      "3/3 [==============================] - 0s 84ms/step - loss: 0.0565 - accuracy: 0.9875 - val_loss: 0.3477 - val_accuracy: 0.9000\n",
      "Epoch 48/100\n",
      "3/3 [==============================] - 0s 76ms/step - loss: 0.0801 - accuracy: 0.9750 - val_loss: 0.4233 - val_accuracy: 0.9000\n",
      "Epoch 49/100\n",
      "3/3 [==============================] - 0s 75ms/step - loss: 0.0486 - accuracy: 1.0000 - val_loss: 0.4308 - val_accuracy: 0.9000\n",
      "Epoch 50/100\n",
      "3/3 [==============================] - 0s 75ms/step - loss: 0.0773 - accuracy: 0.9750 - val_loss: 0.3923 - val_accuracy: 0.9000\n",
      "Epoch 51/100\n",
      "3/3 [==============================] - 0s 81ms/step - loss: 0.0495 - accuracy: 0.9875 - val_loss: 0.3697 - val_accuracy: 0.9000\n",
      "Epoch 52/100\n",
      "3/3 [==============================] - 0s 85ms/step - loss: 0.0590 - accuracy: 0.9875 - val_loss: 0.4541 - val_accuracy: 0.9000\n",
      "Epoch 53/100\n",
      "3/3 [==============================] - 0s 84ms/step - loss: 0.0490 - accuracy: 1.0000 - val_loss: 0.4836 - val_accuracy: 0.9000\n",
      "Epoch 54/100\n",
      "3/3 [==============================] - 0s 86ms/step - loss: 0.0377 - accuracy: 1.0000 - val_loss: 0.3940 - val_accuracy: 0.9000\n",
      "Epoch 55/100\n",
      "3/3 [==============================] - 0s 82ms/step - loss: 0.0530 - accuracy: 0.9875 - val_loss: 0.3689 - val_accuracy: 0.9000\n",
      "Epoch 56/100\n",
      "3/3 [==============================] - 0s 78ms/step - loss: 0.0583 - accuracy: 0.9875 - val_loss: 0.4601 - val_accuracy: 0.9000\n",
      "Epoch 57/100\n",
      "3/3 [==============================] - 0s 73ms/step - loss: 0.0720 - accuracy: 0.9625 - val_loss: 0.3921 - val_accuracy: 0.9000\n",
      "Epoch 58/100\n",
      "3/3 [==============================] - 0s 77ms/step - loss: 0.0449 - accuracy: 0.9875 - val_loss: 0.4314 - val_accuracy: 0.9000\n",
      "Epoch 59/100\n",
      "3/3 [==============================] - 0s 86ms/step - loss: 0.0307 - accuracy: 0.9875 - val_loss: 0.4274 - val_accuracy: 0.9000\n",
      "Epoch 60/100\n",
      "3/3 [==============================] - 0s 87ms/step - loss: 0.0403 - accuracy: 0.9875 - val_loss: 0.4507 - val_accuracy: 0.9000\n",
      "Epoch 61/100\n",
      "3/3 [==============================] - 0s 75ms/step - loss: 0.0251 - accuracy: 1.0000 - val_loss: 0.4504 - val_accuracy: 0.9000\n",
      "Epoch 62/100\n",
      "3/3 [==============================] - 0s 84ms/step - loss: 0.0256 - accuracy: 1.0000 - val_loss: 0.4178 - val_accuracy: 0.9000\n",
      "Epoch 63/100\n",
      "3/3 [==============================] - 0s 73ms/step - loss: 0.0223 - accuracy: 1.0000 - val_loss: 0.4156 - val_accuracy: 0.9000\n",
      "Epoch 64/100\n",
      "3/3 [==============================] - 0s 84ms/step - loss: 0.0239 - accuracy: 1.0000 - val_loss: 0.4330 - val_accuracy: 0.9000\n",
      "Epoch 65/100\n",
      "3/3 [==============================] - 0s 84ms/step - loss: 0.0161 - accuracy: 1.0000 - val_loss: 0.4744 - val_accuracy: 0.9000\n",
      "Epoch 66/100\n",
      "3/3 [==============================] - 0s 79ms/step - loss: 0.0253 - accuracy: 1.0000 - val_loss: 0.4875 - val_accuracy: 0.9000\n",
      "Epoch 67/100\n",
      "3/3 [==============================] - 0s 88ms/step - loss: 0.0217 - accuracy: 1.0000 - val_loss: 0.4677 - val_accuracy: 0.9000\n",
      "Epoch 68/100\n",
      "3/3 [==============================] - 0s 92ms/step - loss: 0.0270 - accuracy: 0.9875 - val_loss: 0.4696 - val_accuracy: 0.9000\n",
      "Epoch 69/100\n",
      "3/3 [==============================] - 0s 72ms/step - loss: 0.0284 - accuracy: 1.0000 - val_loss: 0.5417 - val_accuracy: 0.9000\n",
      "Epoch 70/100\n",
      "3/3 [==============================] - 0s 90ms/step - loss: 0.0215 - accuracy: 1.0000 - val_loss: 0.4039 - val_accuracy: 0.9000\n",
      "Epoch 71/100\n",
      "3/3 [==============================] - 0s 88ms/step - loss: 0.0323 - accuracy: 1.0000 - val_loss: 0.4657 - val_accuracy: 0.9000\n",
      "Epoch 72/100\n",
      "3/3 [==============================] - 0s 107ms/step - loss: 0.0374 - accuracy: 0.9875 - val_loss: 0.6109 - val_accuracy: 0.9000\n",
      "Epoch 73/100\n",
      "3/3 [==============================] - 0s 83ms/step - loss: 0.0362 - accuracy: 0.9875 - val_loss: 0.4443 - val_accuracy: 0.9000\n",
      "Epoch 74/100\n",
      "3/3 [==============================] - 0s 83ms/step - loss: 0.0291 - accuracy: 0.9875 - val_loss: 0.4516 - val_accuracy: 0.9000\n",
      "Epoch 75/100\n",
      "3/3 [==============================] - 0s 85ms/step - loss: 0.0237 - accuracy: 0.9875 - val_loss: 0.6078 - val_accuracy: 0.9000\n",
      "Epoch 76/100\n",
      "3/3 [==============================] - 0s 79ms/step - loss: 0.0223 - accuracy: 1.0000 - val_loss: 0.6069 - val_accuracy: 0.9000\n",
      "Epoch 77/100\n",
      "3/3 [==============================] - 0s 82ms/step - loss: 0.0222 - accuracy: 1.0000 - val_loss: 0.4553 - val_accuracy: 0.9000\n",
      "Epoch 78/100\n",
      "3/3 [==============================] - 0s 82ms/step - loss: 0.0139 - accuracy: 1.0000 - val_loss: 0.4304 - val_accuracy: 0.9000\n",
      "Epoch 79/100\n",
      "3/3 [==============================] - 0s 77ms/step - loss: 0.0203 - accuracy: 1.0000 - val_loss: 0.5591 - val_accuracy: 0.9000\n",
      "Epoch 80/100\n",
      "3/3 [==============================] - 0s 88ms/step - loss: 0.0165 - accuracy: 1.0000 - val_loss: 0.6068 - val_accuracy: 0.9000\n",
      "Epoch 81/100\n",
      "3/3 [==============================] - 0s 80ms/step - loss: 0.0180 - accuracy: 1.0000 - val_loss: 0.5042 - val_accuracy: 0.9000\n",
      "Epoch 82/100\n",
      "3/3 [==============================] - 0s 91ms/step - loss: 0.0178 - accuracy: 1.0000 - val_loss: 0.4566 - val_accuracy: 0.9000\n",
      "Epoch 83/100\n",
      "3/3 [==============================] - 0s 86ms/step - loss: 0.0156 - accuracy: 1.0000 - val_loss: 0.5883 - val_accuracy: 0.9000\n",
      "Epoch 84/100\n",
      "3/3 [==============================] - 0s 86ms/step - loss: 0.0223 - accuracy: 1.0000 - val_loss: 0.4989 - val_accuracy: 0.9000\n",
      "Epoch 85/100\n",
      "3/3 [==============================] - 0s 99ms/step - loss: 0.0107 - accuracy: 1.0000 - val_loss: 0.4202 - val_accuracy: 0.8500\n",
      "Epoch 86/100\n",
      "3/3 [==============================] - 0s 90ms/step - loss: 0.0137 - accuracy: 1.0000 - val_loss: 0.4300 - val_accuracy: 0.8500\n",
      "Epoch 87/100\n",
      "3/3 [==============================] - 0s 88ms/step - loss: 0.0194 - accuracy: 1.0000 - val_loss: 0.6196 - val_accuracy: 0.9000\n",
      "Epoch 88/100\n",
      "3/3 [==============================] - 0s 84ms/step - loss: 0.0161 - accuracy: 1.0000 - val_loss: 0.7109 - val_accuracy: 0.8500\n",
      "Epoch 89/100\n",
      "3/3 [==============================] - 0s 86ms/step - loss: 0.0213 - accuracy: 1.0000 - val_loss: 0.5660 - val_accuracy: 0.9000\n",
      "Epoch 90/100\n",
      "3/3 [==============================] - 0s 82ms/step - loss: 0.0251 - accuracy: 1.0000 - val_loss: 0.5496 - val_accuracy: 0.9000\n",
      "Epoch 91/100\n",
      "3/3 [==============================] - 0s 89ms/step - loss: 0.0121 - accuracy: 1.0000 - val_loss: 0.7171 - val_accuracy: 0.9000\n",
      "Epoch 92/100\n",
      "3/3 [==============================] - 0s 80ms/step - loss: 0.0159 - accuracy: 1.0000 - val_loss: 0.7019 - val_accuracy: 0.9000\n",
      "Epoch 93/100\n",
      "3/3 [==============================] - 0s 99ms/step - loss: 0.0149 - accuracy: 1.0000 - val_loss: 0.5635 - val_accuracy: 0.9000\n",
      "Epoch 94/100\n",
      "3/3 [==============================] - 0s 78ms/step - loss: 0.0197 - accuracy: 0.9875 - val_loss: 0.5720 - val_accuracy: 0.9000\n",
      "Epoch 95/100\n",
      "3/3 [==============================] - 0s 78ms/step - loss: 0.0061 - accuracy: 1.0000 - val_loss: 0.5510 - val_accuracy: 0.9000\n",
      "Epoch 96/100\n",
      "3/3 [==============================] - 0s 70ms/step - loss: 0.0088 - accuracy: 1.0000 - val_loss: 0.5889 - val_accuracy: 0.9000\n",
      "Epoch 97/100\n",
      "3/3 [==============================] - 0s 82ms/step - loss: 0.0057 - accuracy: 1.0000 - val_loss: 0.5962 - val_accuracy: 0.9000\n",
      "Epoch 98/100\n",
      "3/3 [==============================] - 0s 104ms/step - loss: 0.0071 - accuracy: 1.0000 - val_loss: 0.5496 - val_accuracy: 0.9000\n",
      "Epoch 99/100\n",
      "3/3 [==============================] - 0s 75ms/step - loss: 0.0063 - accuracy: 1.0000 - val_loss: 0.4847 - val_accuracy: 0.9000\n",
      "Epoch 100/100\n",
      "3/3 [==============================] - 0s 87ms/step - loss: 0.0119 - accuracy: 1.0000 - val_loss: 0.5260 - val_accuracy: 0.9000\n"
     ]
    }
   ],
   "source": [
    "H = model.fit(x_train, y_train, validation_data=(x_test, y_test), \n",
    "          epochs=max_epochs, batch_size=32)"
   ]
  },
  {
   "cell_type": "code",
   "execution_count": 17,
   "metadata": {},
   "outputs": [
    {
     "data": {
      "image/png": "[encoded data removed]",
      "text/plain": [
       "<Figure size 432x288 with 1 Axes>"
      ]
     },
     "metadata": {},
     "output_type": "display_data"
    }
   ],
   "source": [
    "N = np.arange(0, max_epochs)\n",
    "plt.style.use(\"ggplot\")\n",
    "plt.figure()\n",
    "plt.plot(N, H.history[\"loss\"], label=\"train_loss\")\n",
    "plt.plot(N, H.history[\"val_loss\"], label=\"val_loss\")\n",
    "#plt.plot(N, H.history[\"accuracy\"], label=\"train_acc\")\n",
    "#plt.plot(N, H.history[\"val_accuracy\"], label=\"val_acc\")\n",
    "plt.xlabel(\"Epoch #\")\n",
    "plt.legend()\n",
    "plt.show()"
   ]
  },
  {
   "cell_type": "markdown",
   "metadata": {},
   "source": [
    "<h3>7. Evaluate the Model</h3>"
   ]
  },
  {
   "cell_type": "code",
   "execution_count": 19,
   "metadata": {},
   "outputs": [
    {
     "name": "stdout",
     "output_type": "stream",
     "text": [
      "              precision    recall  f1-score   support\n",
      "\n",
      "Daun Kemangi       1.00      0.83      0.91        12\n",
      "Daun Seledri       0.80      1.00      0.89         8\n",
      "\n",
      "    accuracy                           0.90        20\n",
      "   macro avg       0.90      0.92      0.90        20\n",
      "weighted avg       0.92      0.90      0.90        20\n",
      "\n"
     ]
    }
   ],
   "source": [
    "# menghitung nilai akurasi model terhadap data test\n",
    "predictions = model.predict(x_test, batch_size=32)\n",
    "target = (predictions > 0.5).astype(np.float64)\n",
    "print(classification_report(y_test, target, target_names=label_list))"
   ]
  },
  {
   "cell_type": "code",
   "execution_count": 33,
   "metadata": {},
   "outputs": [
    {
     "name": "stdout",
     "output_type": "stream",
     "text": [
      "[[0.02337292]]\n"
     ]
    }
   ],
   "source": [
    "# uji model menggunakan image lain\n",
    "queryPath = imagePaths+'query_daun_kemangi.jpg'\n",
    "query = cv2.imread(queryPath)\n",
    "output = query.copy()\n",
    "query = cv2.resize(query, (32, 32))\n",
    "q = []\n",
    "q.append(query)\n",
    "q = np.array(q, dtype='float') / 255.0\n",
    "\n",
    "q_pred = model.predict(q)\n",
    "print(q_pred)"
   ]
  },
  {
   "cell_type": "code",
   "execution_count": 34,
   "metadata": {},
   "outputs": [],
   "source": [
    "if q_pred<=0.5 :\n",
    "    target = \"Daun Kemangi\"\n",
    "else :\n",
    "    target = \"Daun Seledri\"\n",
    "text = \"{}\".format(target)\n",
    "cv2.putText(output, text, (10, 30), cv2.FONT_HERSHEY_SIMPLEX, 0.7, (0, 0, 255), 2)\n",
    " \n",
    "# menampilkan output image\n",
    "cv2.imshow('Output', output)\n",
    "cv2.waitKey() # image tidak akan diclose,sebelum user menekan sembarang tombol\n",
    "cv2.destroyWindow('Output') # image akan diclose"
   ]
  },
  {
   "cell_type": "code",
   "execution_count": null,
   "metadata": {},
   "outputs": [],
   "source": []
  }
 ],
 "metadata": {
  "kernelspec": {
   "display_name": "Python 3",
   "language": "python",
   "name": "python3"
  },
  "language_info": {
   "codemirror_mode": {
    "name": "ipython",
    "version": 3
   },
   "file_extension": ".py",
   "mimetype": "text/x-python",
   "name": "python",
   "nbconvert_exporter": "python",
   "pygments_lexer": "ipython3",
   "version": "3.9.4"
  }
 },
 "nbformat": 4,
 "nbformat_minor": 4
}
